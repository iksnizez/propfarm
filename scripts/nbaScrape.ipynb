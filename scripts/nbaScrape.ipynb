{
 "cells": [
  {
   "cell_type": "code",
   "execution_count": 1,
   "id": "eee6c360",
   "metadata": {},
   "outputs": [],
   "source": [
    "import nbaScraper as ns\n",
    "import actNetScraper as ans\n",
    "from datetime import datetime, timedelta\n",
    "\n",
    "# nba website, basketball referenece scraper\n",
    "scraper = ns.scraper(\n",
    "    browser_path = '..\\\\browser\\\\geckodriver.exe',\n",
    "    database_export = True, \n",
    "    store_locally = True,\n",
    "    pymysql_conn_str =  None\n",
    ")\n",
    "today = scraper.meta_data['today_dt']\n",
    "lastNgames = 10\n",
    "day_adj = -1\n",
    "\n",
    "### prop line/odd scraper\n",
    "# leagues to scrape\n",
    "leagues = [\n",
    "    'nba', 'nhl'  #TODO schedule check for all 5 leagues to automatically scrape\n",
    "]\n",
    "# specifi props to scrape, IF single league provided\n",
    "specified = []\n",
    "# day adjustment from today (date of running script), negative = dates into the past\n",
    "dayJump = 0 \n",
    "# date can be a list of dates if multiple need scraping 'YYYY-MM-DD'\n",
    "# default is to only pull today or today + dayJump\n",
    "dates = [(datetime.today() + timedelta(days=dayJump)).strftime('%Y-%m-%d')]\n",
    "\n",
    "prop_scraper = ans.actNetScraper(\n",
    "    browser_path = '..\\\\browser\\\\geckodriver.exe',\n",
    "    dates = dates,\n",
    "    leagues = leagues,\n",
    "    database_export = False, \n",
    "    store_locally = True,\n",
    "    config_path = '..\\\\..\\\\..\\\\Notes-General\\\\config.txt'\n",
    ")\n",
    "\n",
    "# turn to False if issues loading new players\n",
    "#prop_scraper.update_players = False\n",
    "\n"
   ]
  },
  {
   "cell_type": "code",
   "execution_count": null,
   "id": "cfc593e7",
   "metadata": {},
   "outputs": [
    {
     "name": "stdout",
     "output_type": "stream",
     "text": [
      "original rows:  (925, 20)\n",
      "after dups removed:  (754, 20)\n",
      "missing props:  ['ast', 'pr', 'pts']\n",
      "[]\n",
      "original rows:  (571, 20)\n",
      "after dups removed:  (484, 20)\n",
      "missing props:  ['gs']\n",
      "[]\n"
     ]
    }
   ],
   "source": [
    "prop_scraper.scrape(\n",
    "    sleep_secs = 2, \n",
    "    specific_props = specified,\n",
    "    leagues_override = None\n",
    ")\n",
    "\n",
    "prop_scraper.processScrapes(\n",
    "    remove_dups = True\n",
    ")"
   ]
  },
  {
   "cell_type": "code",
   "execution_count": 13,
   "id": "8dd73cd4",
   "metadata": {},
   "outputs": [
    {
     "name": "stdout",
     "output_type": "stream",
     "text": [
      "scraper finished....\n"
     ]
    }
   ],
   "source": [
    "scraper.get_nba_team_playtype_data(\n",
    "    base_url = 'https://www.nba.com/stats/teams/{playtype}?TypeGrouping={sideofball}&SeasonType={type}',\n",
    "    play_types = [\n",
    "        'isolation', 'transition', 'ball-handler', 'roll-man', 'playtype-post-up',\n",
    "        'spot-up', 'hand-off', 'cut', 'off-screen','putbacks'\n",
    "    ],\n",
    "    sides = ['offensive', 'defensive'],\n",
    "    season_type = 'Regular+Season',  # ['Regular+Season', 'PlayIn', 'Playoffs']\n",
    "    database_table = 'statsteamplaytypes'\n",
    ")\n",
    "\n",
    "scraper.get_nba_team_shotzone_data(\n",
    "    base_url = 'https://www.nba.com/stats/teams/{sideOfBall}?DistanceRange=By+Zone&LastNGames={lastNgames}&SeasonType={type}', \n",
    "    sides = {'offensive':'shooting', 'defensive':'opponent-shooting'},\n",
    "    season_type = 'Regular+Season',  # ['Regular+Season', 'PlayIn', 'Playoffs']\n",
    "    lastNgames = lastNgames,\n",
    "    database_table = 'statsteamshotzones'\n",
    ")\n",
    "\n",
    "scraper.get_nba_player_playtype_data(\n",
    "    base_url = 'https://www.nba.com/stats/players/{playtype}?TypeGrouping={sideofball}&SeasonType={type}', \n",
    "    play_types = [\n",
    "        'isolation', 'transition', 'ball-handler', 'roll-man', 'playtype-post-up',\n",
    "        'spot-up', 'hand-off', 'cut', 'off-screen','putbacks'\n",
    "    ],\n",
    "    sides = ['offensive'],\n",
    "    season_type = 'Regular+Season',  # ['Regular+Season', 'PlayIn', 'Playoffs']\n",
    "    database_table = 'statsplayerplaytypes'\n",
    ")\n",
    "\n",
    "scraper.get_nba_player_shotzone_data(\n",
    "    base_url = 'https://www.nba.com/stats/players/shooting?DistanceRange=By+Zone&LastNGames={lastNgames}&SeasonType={type}', \n",
    "    season_type = 'Regular+Season',  # ['Regular+Season', 'PlayIn', 'Playoffs']\n",
    "    lastNgames = lastNgames,\n",
    "    database_table = 'statsplayershotzones'\n",
    ")\n",
    "\n",
    "scraper.get_nba_player_passing_data(\n",
    "    base_url = 'https://www.nba.com/stats/players/passing?DateFrom={d1}&DateTo={d2}&LastNGames=0&PerMode=Totals&SeasonType={type}', \n",
    "    today_date = today,\n",
    "    day_adjuster = day_adj,\n",
    "    season_type = 'Regular+Season',  # ['Regular+Season', 'PlayIn', 'Playoffs']\n",
    "    #lastNgames = 10,\n",
    "    database_table = 'statsplayerpassing'\n",
    ")\n",
    "\n",
    "scraper.get_nba_player_rebounding_data(\n",
    "    base_url = 'https://www.nba.com/stats/players/rebounding?DateFrom={d1}&DateTo={d2}&LastNGames=0&PerMode=Totals&SeasonType={type}', \n",
    "    today_date = today,\n",
    "    day_adjuster = day_adj,\n",
    "    season_type = 'Regular+Season',  # ['Regular+Season', 'PlayIn', 'Playoffs']\n",
    "    #lastNgames = 10,\n",
    "    database_table = 'statsplayerrebounding'\n",
    ")\n",
    "\n",
    "scraper.get_bref_pos_estimates(\n",
    "        base_url = 'https://www.basketball-reference.com/teams/{team}/{season}.html#pbp', \n",
    "        today_date = today,\n",
    "        season = 2025,\n",
    "        database_table = 'brefmisc'\n",
    ")\n",
    "\n",
    "print('scraper finished....')\n"
   ]
  },
  {
   "cell_type": "code",
   "execution_count": 11,
   "id": "38023d7a",
   "metadata": {},
   "outputs": [
    {
     "data": {
      "text/plain": [
       "{'statsteamplaytypes': {'url': [], 'db': []},\n",
       " 'statsteamshotzones': {'url': [], 'db': []},\n",
       " 'statsplayerplaytypes': {'url': [], 'db': []},\n",
       " 'statsplayershotzones': {'url': [], 'db': []},\n",
       " 'statsplayerpassing': {'url': [], 'db': []},\n",
       " 'statsplayerrebounding': {'url': [], 'db': []},\n",
       " 'brefmisc': {'url': [], 'db': []}}"
      ]
     },
     "execution_count": 11,
     "metadata": {},
     "output_type": "execute_result"
    }
   ],
   "source": [
    "scraper.scrape_errors"
   ]
  },
  {
   "cell_type": "code",
   "execution_count": 8,
   "id": "80713026",
   "metadata": {},
   "outputs": [
    {
     "data": {
      "text/plain": [
       "[5, 1, 3]"
      ]
     },
     "execution_count": 8,
     "metadata": {},
     "output_type": "execute_result"
    }
   ],
   "source": [
    "a = [1,3]\n",
    "b = [5]\n",
    "b.extend(a)\n",
    "b"
   ]
  },
  {
   "cell_type": "code",
   "execution_count": 11,
   "id": "4c82cd0f-1138-44be-9d7c-91a3166dba1c",
   "metadata": {},
   "outputs": [],
   "source": [
    "playerDefRatingUrl = 'https://www.nba.com/stats/players/advanced?CF=MIN*GE*15&SeasonType=Regular%20Season&dir=-1&sort=DEF_RATING'\n",
    "teamDefRatingUrl = 'https://www.nba.com/stats/teams/advanced?LastNGames=10&dir=A&sort=DEF_RATING'\n",
    "                    "
   ]
  }
 ],
 "metadata": {
  "kernelspec": {
   "display_name": "propfarm-_NXI0yZr",
   "language": "python",
   "name": "python3"
  },
  "language_info": {
   "codemirror_mode": {
    "name": "ipython",
    "version": 3
   },
   "file_extension": ".py",
   "mimetype": "text/x-python",
   "name": "python",
   "nbconvert_exporter": "python",
   "pygments_lexer": "ipython3",
   "version": "3.9.5"
  }
 },
 "nbformat": 4,
 "nbformat_minor": 5
}
