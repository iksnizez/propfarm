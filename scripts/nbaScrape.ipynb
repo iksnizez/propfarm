{
 "cells": [
  {
   "cell_type": "code",
   "execution_count": 4,
   "id": "eee6c360",
   "metadata": {},
   "outputs": [
    {
     "name": "stdout",
     "output_type": "stream",
     "text": [
      "scraping for ['nba', 'nhl'] on 2024-12-31\n"
     ]
    }
   ],
   "source": [
    "import nbaScraper as ns\n",
    "import actNetScraper as ans\n",
    "from datetime import datetime, timedelta\n",
    "\n",
    "database_export = True\n",
    "store_locally = True\n",
    "\n",
    "# nba website, basketball referenece scraper\n",
    "scraper = ns.scraper(\n",
    "    browser_path = '..\\\\browser\\\\geckodriver.exe',\n",
    "    database_export = database_export, \n",
    "    store_locally = store_locally,\n",
    "    pymysql_conn_str =  None\n",
    ")\n",
    "today = scraper.meta_data['today_dt']\n",
    "lastNgames = 10\n",
    "day_adj = -1\n",
    "\n",
    "### prop line/odd scraper\n",
    "specified = []\n",
    "# day adjustment from today (date of running script), negative = dates into the past\n",
    "dayJump = 0 \n",
    "# date can be a list of dates if multiple need scraping 'YYYY-MM-DD'\n",
    "# default is to only pull today or today + dayJump\n",
    "dates = [(datetime.today() + timedelta(days=dayJump)).strftime('%Y-%m-%d')]\n",
    "\n",
    "prop_scraper = ans.actNetScraper(\n",
    "    browser_path = '..\\\\browser\\\\geckodriver.exe',\n",
    "    dates = dates,\n",
    "    #leagues = leagues,\n",
    "    database_export = database_export, \n",
    "    store_locally = store_locally,\n",
    "    config_path = '..\\\\..\\\\..\\\\Notes-General\\\\config.txt'\n",
    ")\n",
    "\n",
    "# turn to False if issues loading new players\n",
    "#prop_scraper.update_players = False\n",
    "\n",
    "# update the league list to only ones with games today\n",
    "leagues = prop_scraper.check_for_league_games(date_check = None, update_class_leagues_var = True)\n",
    "print('scraping for', leagues, 'on', prop_scraper.run_date_str)"
   ]
  },
  {
   "cell_type": "code",
   "execution_count": null,
   "id": "8dd73cd4",
   "metadata": {},
   "outputs": [
    {
     "name": "stdout",
     "output_type": "stream",
     "text": [
      "scraper finished....\n"
     ]
    }
   ],
   "source": [
    "scraper.get_nba_team_playtype_data(\n",
    "    base_url = 'https://www.nba.com/stats/teams/{playtype}?TypeGrouping={sideofball}&SeasonType={type}',\n",
    "    play_types = [\n",
    "        'isolation', 'transition', 'ball-handler', 'roll-man', 'playtype-post-up',\n",
    "        'spot-up', 'hand-off', 'cut', 'off-screen','putbacks'\n",
    "    ],\n",
    "    sides = ['offensive', 'defensive'],\n",
    "    season_type = 'Regular+Season',  # ['Regular+Season', 'PlayIn', 'Playoffs']\n",
    "    database_table = 'statsteamplaytypes'\n",
    ")\n",
    "\n",
    "scraper.get_nba_team_shotzone_data(\n",
    "    base_url = 'https://www.nba.com/stats/teams/{sideOfBall}?DistanceRange=By+Zone&LastNGames={lastNgames}&SeasonType={type}', \n",
    "    sides = {'offensive':'shooting', 'defensive':'opponent-shooting'},\n",
    "    season_type = 'Regular+Season',  # ['Regular+Season', 'PlayIn', 'Playoffs']\n",
    "    lastNgames = lastNgames,\n",
    "    database_table = 'statsteamshotzones'\n",
    ")\n",
    "\n",
    "scraper.get_nba_player_playtype_data(\n",
    "    base_url = 'https://www.nba.com/stats/players/{playtype}?TypeGrouping={sideofball}&SeasonType={type}', \n",
    "    play_types = [\n",
    "        'isolation', 'transition', 'ball-handler', 'roll-man', 'playtype-post-up',\n",
    "        'spot-up', 'hand-off', 'cut', 'off-screen','putbacks'\n",
    "    ],\n",
    "    sides = ['offensive'],\n",
    "    season_type = 'Regular+Season',  # ['Regular+Season', 'PlayIn', 'Playoffs']\n",
    "    database_table = 'statsplayerplaytypes'\n",
    ")\n",
    "\n",
    "scraper.get_nba_player_shotzone_data(\n",
    "    base_url = 'https://www.nba.com/stats/players/shooting?DistanceRange=By+Zone&LastNGames={lastNgames}&SeasonType={type}', \n",
    "    season_type = 'Regular+Season',  # ['Regular+Season', 'PlayIn', 'Playoffs']\n",
    "    lastNgames = lastNgames,\n",
    "    database_table = 'statsplayershotzones'\n",
    ")\n",
    "\n",
    "scraper.get_nba_player_passing_data(\n",
    "    base_url = 'https://www.nba.com/stats/players/passing?DateFrom={d1}&DateTo={d2}&LastNGames=0&PerMode=Totals&SeasonType={type}', \n",
    "    today_date = today,\n",
    "    day_adjuster = day_adj,\n",
    "    season_type = 'Regular+Season',  # ['Regular+Season', 'PlayIn', 'Playoffs']\n",
    "    #lastNgames = 10,\n",
    "    database_table = 'statsplayerpassing'\n",
    ")\n",
    "\n",
    "scraper.get_nba_player_rebounding_data(\n",
    "    base_url = 'https://www.nba.com/stats/players/rebounding?DateFrom={d1}&DateTo={d2}&LastNGames=0&PerMode=Totals&SeasonType={type}', \n",
    "    today_date = today,\n",
    "    day_adjuster = day_adj,\n",
    "    season_type = 'Regular+Season',  # ['Regular+Season', 'PlayIn', 'Playoffs']\n",
    "    #lastNgames = 10,\n",
    "    database_table = 'statsplayerrebounding'\n",
    ")\n",
    "\n",
    "scraper.get_bref_pos_estimates(\n",
    "        base_url = 'https://www.basketball-reference.com/teams/{team}/{season}.html#pbp', \n",
    "        today_date = today,\n",
    "        season = 2025,\n",
    "        database_table = 'brefmisc'\n",
    ")"
   ]
  },
  {
   "cell_type": "code",
   "execution_count": null,
   "id": "38023d7a",
   "metadata": {},
   "outputs": [],
   "source": [
    "scraper.scrape_errors"
   ]
  },
  {
   "cell_type": "code",
   "execution_count": 2,
   "id": "cfc593e7",
   "metadata": {},
   "outputs": [
    {
     "name": "stdout",
     "output_type": "stream",
     "text": [
      "scraping nba ...\n",
      "original rows:  (850, 20)\n",
      "after dups removed:  (806, 20)\n",
      "[]\n",
      "missing props:  []\n",
      "prop          ast  blk  pa  pr  pra  pts  ra  reb  sb  stl  threes\n",
      "propId count   75   71  75  75   75   75  75   75  70   72      68\n",
      "scraping nhl ...\n",
      "original rows:  (2680, 20)\n",
      "after dups removed:  (2221, 20)\n",
      "['Justin Hryckowian' 'Ty Smith']\n",
      "missing props:  ['gs']\n",
      "prop          ast  ats  gs1st  gs2plus  gs3plus  gsLast  pts  sog\n",
      "propId count  173  479    421      245       93     461  173  176\n"
     ]
    }
   ],
   "source": [
    "prop_scraper.scrape(\n",
    "    sleep_secs = 2, \n",
    "    specific_props = specified,\n",
    "    leagues_override = None\n",
    ")\n",
    "\n",
    "prop_scraper.processScrapes(\n",
    "    remove_dups = True\n",
    ")"
   ]
  },
  {
   "cell_type": "code",
   "execution_count": 14,
   "id": "51fd7071",
   "metadata": {},
   "outputs": [
    {
     "name": "stdout",
     "output_type": "stream",
     "text": [
      "scraping nhl ...\n",
      "original rows:  (6, 20)\n",
      "after dups removed:  (6, 20)\n",
      "[]\n",
      "missing props:  ['ast', 'ats', 'gs1st', 'gs2plus', 'gs3plus', 'gsLast', 'pts', 'sog']\n",
      "prop          gs\n",
      "propId count   6\n"
     ]
    }
   ],
   "source": [
    "# scrape missed props\n",
    "import random\n",
    "wait_secs = random.randint(1,5)\n",
    "leagues_with_missing_props = ['nhl']\n",
    "missing_props = prop_scraper.scrape_errors[leagues_with_missing_props[0]]['missing_props']\n",
    "\n",
    "prop_scraper_missing = ans.actNetScraper(\n",
    "    browser_path = '..\\\\browser\\\\geckodriver.exe',\n",
    "    dates = dates,\n",
    "    leagues = leagues_with_missing_props,\n",
    "    database_export = database_export, \n",
    "    store_locally = store_locally,\n",
    "    config_path = '..\\\\..\\\\..\\\\Notes-General\\\\config.txt'\n",
    ")\n",
    "\n",
    "prop_scraper_missing.scrape(\n",
    "    sleep_secs = wait_secs, \n",
    "    specific_props = missing_props,\n",
    "    leagues_override = leagues_with_missing_props\n",
    ")\n",
    "\n",
    "prop_scraper_missing.processScrapes(\n",
    "    remove_dups = True\n",
    ")"
   ]
  },
  {
   "cell_type": "code",
   "execution_count": null,
   "id": "f1139f77",
   "metadata": {},
   "outputs": [],
   "source": []
  }
 ],
 "metadata": {
  "kernelspec": {
   "display_name": "propfarm-_NXI0yZr",
   "language": "python",
   "name": "python3"
  },
  "language_info": {
   "codemirror_mode": {
    "name": "ipython",
    "version": 3
   },
   "file_extension": ".py",
   "mimetype": "text/x-python",
   "name": "python",
   "nbconvert_exporter": "python",
   "pygments_lexer": "ipython3",
   "version": "3.9.5"
  }
 },
 "nbformat": 4,
 "nbformat_minor": 5
}
