{
 "cells": [
  {
   "cell_type": "code",
   "execution_count": 1,
   "id": "eee6c360",
   "metadata": {},
   "outputs": [
    {
     "name": "stdout",
     "output_type": "stream",
     "text": [
      "scraping for [] on 2025-01-12\n"
     ]
    }
   ],
   "source": [
    "import nbaScraper as ns\n",
    "import actNetScraper as ans\n",
    "from datetime import datetime, timedelta\n",
    "\n",
    "database_export = True\n",
    "store_locally = True\n",
    "\n",
    "# nba website, basketball referenece scraper\n",
    "scraper = ns.scraper(\n",
    "    browser_path = '..\\\\..\\\\browser\\\\geckodriver.exe',\n",
    "    database_export = database_export, \n",
    "    store_locally = store_locally,\n",
    "    pymysql_conn_str =  None\n",
    ")\n",
    "today = scraper.meta_data['today_dt']\n",
    "lastNgames = 10\n",
    "day_adj = -1\n",
    "\n",
    "### prop line/odd scraper\n",
    "leagues = ['nba'] # None or list ['nba', 'nhl', 'nfl']\n",
    "specified =  []\n",
    "# day adjustment from today (date of running script), negative = dates into the past\n",
    "dayJump = 0 \n",
    "# date can be a list of dates if multiple need scraping 'YYYY-MM-DD'\n",
    "# default is to only pull today or today + dayJump\n",
    "dates = [(datetime.today() + timedelta(days=dayJump)).strftime('%Y-%m-%d')]\n",
    "dates = ['2024-01-05', '2024-01-06', '2024-01-07', '2024-01-08', '2024-01-09', '2024-01-10', '2024-01-11']\n",
    "\n",
    "prop_scraper = ans.actNetScraper(\n",
    "    browser_path = '..\\\\..\\\\browser\\\\geckodriver.exe',\n",
    "    dates = dates,\n",
    "    leagues = leagues,\n",
    "    database_export = database_export, \n",
    "    store_locally = store_locally,\n",
    "    config_path = '..\\\\..\\\\..\\\\..\\\\Notes-General\\\\config.txt',\n",
    "    second_run = False\n",
    ")\n",
    "\n",
    "# turn to False if issues loading new players\n",
    "#prop_scraper.update_players = False\n",
    "\n",
    "# update the league list to only ones with games today\n",
    "#leagues = prop_scraper.check_for_league_games(date_check = None, update_class_leagues_var = True)\n",
    "print('scraping for', prop_scraper.leagues, 'on', prop_scraper.run_date_str)"
   ]
  },
  {
   "cell_type": "code",
   "execution_count": 3,
   "id": "8dd73cd4",
   "metadata": {},
   "outputs": [
    {
     "name": "stdout",
     "output_type": "stream",
     "text": [
      "nba team play type scraped...\n",
      "nba team shot zone scraped...\n"
     ]
    },
    {
     "ename": "WebDriverException",
     "evalue": "Message: Failed to decode response from marionette\n",
     "output_type": "error",
     "traceback": [
      "\u001b[1;31m---------------------------------------------------------------------------\u001b[0m",
      "\u001b[1;31mWebDriverException\u001b[0m                        Traceback (most recent call last)",
      "Cell \u001b[1;32mIn[3], line 22\u001b[0m\n\u001b[0;32m      1\u001b[0m scraper\u001b[38;5;241m.\u001b[39mget_nba_team_playtype_data(\n\u001b[0;32m      2\u001b[0m     base_url \u001b[38;5;241m=\u001b[39m \u001b[38;5;124m'\u001b[39m\u001b[38;5;124mhttps://www.nba.com/stats/teams/\u001b[39m\u001b[38;5;132;01m{playtype}\u001b[39;00m\u001b[38;5;124m?TypeGrouping=\u001b[39m\u001b[38;5;132;01m{sideofball}\u001b[39;00m\u001b[38;5;124m&SeasonType=\u001b[39m\u001b[38;5;132;01m{type}\u001b[39;00m\u001b[38;5;124m&DateTo=\u001b[39m\u001b[38;5;132;01m{endDate}\u001b[39;00m\u001b[38;5;124m'\u001b[39m,\n\u001b[0;32m      3\u001b[0m     play_types \u001b[38;5;241m=\u001b[39m [\n\u001b[1;32m   (...)\u001b[0m\n\u001b[0;32m     10\u001b[0m     endDate \u001b[38;5;241m=\u001b[39m today\n\u001b[0;32m     11\u001b[0m )\n\u001b[0;32m     13\u001b[0m scraper\u001b[38;5;241m.\u001b[39mget_nba_team_shotzone_data(\n\u001b[0;32m     14\u001b[0m     base_url \u001b[38;5;241m=\u001b[39m \u001b[38;5;124m'\u001b[39m\u001b[38;5;124mhttps://www.nba.com/stats/teams/\u001b[39m\u001b[38;5;132;01m{sideOfBall}\u001b[39;00m\u001b[38;5;124m?DistanceRange=By+Zone&LastNGames=\u001b[39m\u001b[38;5;132;01m{lastNgames}\u001b[39;00m\u001b[38;5;124m&SeasonType=\u001b[39m\u001b[38;5;132;01m{type}\u001b[39;00m\u001b[38;5;124m&DateTo=\u001b[39m\u001b[38;5;132;01m{endDate}\u001b[39;00m\u001b[38;5;124m'\u001b[39m, \n\u001b[0;32m     15\u001b[0m     sides \u001b[38;5;241m=\u001b[39m {\u001b[38;5;124m'\u001b[39m\u001b[38;5;124moffensive\u001b[39m\u001b[38;5;124m'\u001b[39m:\u001b[38;5;124m'\u001b[39m\u001b[38;5;124mshooting\u001b[39m\u001b[38;5;124m'\u001b[39m, \u001b[38;5;124m'\u001b[39m\u001b[38;5;124mdefensive\u001b[39m\u001b[38;5;124m'\u001b[39m:\u001b[38;5;124m'\u001b[39m\u001b[38;5;124mopponent-shooting\u001b[39m\u001b[38;5;124m'\u001b[39m},\n\u001b[1;32m   (...)\u001b[0m\n\u001b[0;32m     19\u001b[0m     endDate \u001b[38;5;241m=\u001b[39m today\n\u001b[0;32m     20\u001b[0m )\n\u001b[1;32m---> 22\u001b[0m \u001b[43mscraper\u001b[49m\u001b[38;5;241;43m.\u001b[39;49m\u001b[43mget_nba_player_playtype_data\u001b[49m\u001b[43m(\u001b[49m\n\u001b[0;32m     23\u001b[0m \u001b[43m    \u001b[49m\u001b[43mbase_url\u001b[49m\u001b[43m \u001b[49m\u001b[38;5;241;43m=\u001b[39;49m\u001b[43m \u001b[49m\u001b[38;5;124;43m'\u001b[39;49m\u001b[38;5;124;43mhttps://www.nba.com/stats/players/\u001b[39;49m\u001b[38;5;132;43;01m{playtype}\u001b[39;49;00m\u001b[38;5;124;43m?TypeGrouping=\u001b[39;49m\u001b[38;5;132;43;01m{sideofball}\u001b[39;49;00m\u001b[38;5;124;43m&SeasonType=\u001b[39;49m\u001b[38;5;132;43;01m{type}\u001b[39;49;00m\u001b[38;5;124;43m&DateTo=\u001b[39;49m\u001b[38;5;132;43;01m{endDate}\u001b[39;49;00m\u001b[38;5;124;43m'\u001b[39;49m\u001b[43m,\u001b[49m\u001b[43m \u001b[49m\n\u001b[0;32m     24\u001b[0m \u001b[43m    \u001b[49m\u001b[43mplay_types\u001b[49m\u001b[43m \u001b[49m\u001b[38;5;241;43m=\u001b[39;49m\u001b[43m \u001b[49m\u001b[43m[\u001b[49m\n\u001b[0;32m     25\u001b[0m \u001b[43m        \u001b[49m\u001b[38;5;124;43m'\u001b[39;49m\u001b[38;5;124;43misolation\u001b[39;49m\u001b[38;5;124;43m'\u001b[39;49m\u001b[43m,\u001b[49m\u001b[43m \u001b[49m\u001b[38;5;124;43m'\u001b[39;49m\u001b[38;5;124;43mtransition\u001b[39;49m\u001b[38;5;124;43m'\u001b[39;49m\u001b[43m,\u001b[49m\u001b[43m \u001b[49m\u001b[38;5;124;43m'\u001b[39;49m\u001b[38;5;124;43mball-handler\u001b[39;49m\u001b[38;5;124;43m'\u001b[39;49m\u001b[43m,\u001b[49m\u001b[43m \u001b[49m\u001b[38;5;124;43m'\u001b[39;49m\u001b[38;5;124;43mroll-man\u001b[39;49m\u001b[38;5;124;43m'\u001b[39;49m\u001b[43m,\u001b[49m\u001b[43m \u001b[49m\u001b[38;5;124;43m'\u001b[39;49m\u001b[38;5;124;43mplaytype-post-up\u001b[39;49m\u001b[38;5;124;43m'\u001b[39;49m\u001b[43m,\u001b[49m\n\u001b[0;32m     26\u001b[0m \u001b[43m        \u001b[49m\u001b[38;5;124;43m'\u001b[39;49m\u001b[38;5;124;43mspot-up\u001b[39;49m\u001b[38;5;124;43m'\u001b[39;49m\u001b[43m,\u001b[49m\u001b[43m \u001b[49m\u001b[38;5;124;43m'\u001b[39;49m\u001b[38;5;124;43mhand-off\u001b[39;49m\u001b[38;5;124;43m'\u001b[39;49m\u001b[43m,\u001b[49m\u001b[43m \u001b[49m\u001b[38;5;124;43m'\u001b[39;49m\u001b[38;5;124;43mcut\u001b[39;49m\u001b[38;5;124;43m'\u001b[39;49m\u001b[43m,\u001b[49m\u001b[43m \u001b[49m\u001b[38;5;124;43m'\u001b[39;49m\u001b[38;5;124;43moff-screen\u001b[39;49m\u001b[38;5;124;43m'\u001b[39;49m\u001b[43m,\u001b[49m\u001b[38;5;124;43m'\u001b[39;49m\u001b[38;5;124;43mputbacks\u001b[39;49m\u001b[38;5;124;43m'\u001b[39;49m\n\u001b[0;32m     27\u001b[0m \u001b[43m    \u001b[49m\u001b[43m]\u001b[49m\u001b[43m,\u001b[49m\n\u001b[0;32m     28\u001b[0m \u001b[43m    \u001b[49m\u001b[43msides\u001b[49m\u001b[43m \u001b[49m\u001b[38;5;241;43m=\u001b[39;49m\u001b[43m \u001b[49m\u001b[43m[\u001b[49m\u001b[38;5;124;43m'\u001b[39;49m\u001b[38;5;124;43moffensive\u001b[39;49m\u001b[38;5;124;43m'\u001b[39;49m\u001b[43m]\u001b[49m\u001b[43m,\u001b[49m\n\u001b[0;32m     29\u001b[0m \u001b[43m    \u001b[49m\u001b[43mseason_type\u001b[49m\u001b[43m \u001b[49m\u001b[38;5;241;43m=\u001b[39;49m\u001b[43m \u001b[49m\u001b[38;5;124;43m'\u001b[39;49m\u001b[38;5;124;43mRegular+Season\u001b[39;49m\u001b[38;5;124;43m'\u001b[39;49m\u001b[43m,\u001b[49m\u001b[43m  \u001b[49m\u001b[38;5;66;43;03m# ['Regular+Season', 'PlayIn', 'Playoffs']\u001b[39;49;00m\n\u001b[0;32m     30\u001b[0m \u001b[43m    \u001b[49m\u001b[43mdatabase_table\u001b[49m\u001b[43m \u001b[49m\u001b[38;5;241;43m=\u001b[39;49m\u001b[43m \u001b[49m\u001b[38;5;124;43m'\u001b[39;49m\u001b[38;5;124;43mstatsplayerplaytypes\u001b[39;49m\u001b[38;5;124;43m'\u001b[39;49m\u001b[43m,\u001b[49m\n\u001b[0;32m     31\u001b[0m \u001b[43m    \u001b[49m\u001b[43mendDate\u001b[49m\u001b[43m \u001b[49m\u001b[38;5;241;43m=\u001b[39;49m\u001b[43m \u001b[49m\u001b[43mtoday\u001b[49m\n\u001b[0;32m     32\u001b[0m \u001b[43m)\u001b[49m\n\u001b[0;32m     34\u001b[0m scraper\u001b[38;5;241m.\u001b[39mget_nba_player_shotzone_data(\n\u001b[0;32m     35\u001b[0m     base_url \u001b[38;5;241m=\u001b[39m \u001b[38;5;124m'\u001b[39m\u001b[38;5;124mhttps://www.nba.com/stats/players/shooting?DistanceRange=By+Zone&LastNGames=\u001b[39m\u001b[38;5;132;01m{lastNgames}\u001b[39;00m\u001b[38;5;124m&SeasonType=\u001b[39m\u001b[38;5;132;01m{type}\u001b[39;00m\u001b[38;5;124m&DateTo=\u001b[39m\u001b[38;5;132;01m{endDate}\u001b[39;00m\u001b[38;5;124m'\u001b[39m, \n\u001b[0;32m     36\u001b[0m     season_type \u001b[38;5;241m=\u001b[39m \u001b[38;5;124m'\u001b[39m\u001b[38;5;124mRegular+Season\u001b[39m\u001b[38;5;124m'\u001b[39m,  \u001b[38;5;66;03m# ['Regular+Season', 'PlayIn', 'Playoffs']\u001b[39;00m\n\u001b[1;32m   (...)\u001b[0m\n\u001b[0;32m     39\u001b[0m     endDate \u001b[38;5;241m=\u001b[39m today\n\u001b[0;32m     40\u001b[0m )\n\u001b[0;32m     42\u001b[0m scraper\u001b[38;5;241m.\u001b[39mget_nba_player_passing_data(\n\u001b[0;32m     43\u001b[0m     base_url \u001b[38;5;241m=\u001b[39m \u001b[38;5;124m'\u001b[39m\u001b[38;5;124mhttps://www.nba.com/stats/players/passing?DateFrom=\u001b[39m\u001b[38;5;132;01m{d1}\u001b[39;00m\u001b[38;5;124m&DateTo=\u001b[39m\u001b[38;5;132;01m{d2}\u001b[39;00m\u001b[38;5;124m&LastNGames=0&PerMode=Totals&SeasonType=\u001b[39m\u001b[38;5;132;01m{type}\u001b[39;00m\u001b[38;5;124m'\u001b[39m, \n\u001b[0;32m     44\u001b[0m     today_date \u001b[38;5;241m=\u001b[39m today,\n\u001b[1;32m   (...)\u001b[0m\n\u001b[0;32m     48\u001b[0m     database_table \u001b[38;5;241m=\u001b[39m \u001b[38;5;124m'\u001b[39m\u001b[38;5;124mstatsplayerpassing\u001b[39m\u001b[38;5;124m'\u001b[39m\n\u001b[0;32m     49\u001b[0m )\n",
      "File \u001b[1;32mc:\\Users\\jrbrz\\Desktop\\projects\\projects\\propfarm\\scripts\\scrapers\\nbaScraper.py:433\u001b[0m, in \u001b[0;36mscraper.get_nba_player_playtype_data\u001b[1;34m(self, base_url, play_types, sides, season_type, database_table, endDate)\u001b[0m\n\u001b[0;32m    430\u001b[0m     \u001b[38;5;28;01mpass\u001b[39;00m\n\u001b[0;32m    432\u001b[0m time\u001b[38;5;241m.\u001b[39msleep(\u001b[38;5;241m1\u001b[39m)\n\u001b[1;32m--> 433\u001b[0m ps \u001b[38;5;241m=\u001b[39m \u001b[43mdriver\u001b[49m\u001b[38;5;241;43m.\u001b[39;49m\u001b[43mpage_source\u001b[49m\n\u001b[0;32m    434\u001b[0m soup \u001b[38;5;241m=\u001b[39m bs(ps)\n\u001b[0;32m    437\u001b[0m \u001b[38;5;66;03m# extract table holding the data\u001b[39;00m\n",
      "File \u001b[1;32mc:\\Users\\jrbrz\\.virtualenvs\\propfarm-_NXI0yZr\\lib\\site-packages\\selenium\\webdriver\\remote\\webdriver.py:448\u001b[0m, in \u001b[0;36mWebDriver.page_source\u001b[1;34m(self)\u001b[0m\n\u001b[0;32m    439\u001b[0m \u001b[38;5;129m@property\u001b[39m\n\u001b[0;32m    440\u001b[0m \u001b[38;5;28;01mdef\u001b[39;00m \u001b[38;5;21mpage_source\u001b[39m(\u001b[38;5;28mself\u001b[39m) \u001b[38;5;241m-\u001b[39m\u001b[38;5;241m>\u001b[39m \u001b[38;5;28mstr\u001b[39m:\n\u001b[0;32m    441\u001b[0m \u001b[38;5;250m    \u001b[39m\u001b[38;5;124;03m\"\"\"Gets the source of the current page.\u001b[39;00m\n\u001b[0;32m    442\u001b[0m \n\u001b[0;32m    443\u001b[0m \u001b[38;5;124;03m    :Usage:\u001b[39;00m\n\u001b[1;32m   (...)\u001b[0m\n\u001b[0;32m    446\u001b[0m \u001b[38;5;124;03m            driver.page_source\u001b[39;00m\n\u001b[0;32m    447\u001b[0m \u001b[38;5;124;03m    \"\"\"\u001b[39;00m\n\u001b[1;32m--> 448\u001b[0m     \u001b[38;5;28;01mreturn\u001b[39;00m \u001b[38;5;28;43mself\u001b[39;49m\u001b[38;5;241;43m.\u001b[39;49m\u001b[43mexecute\u001b[49m\u001b[43m(\u001b[49m\u001b[43mCommand\u001b[49m\u001b[38;5;241;43m.\u001b[39;49m\u001b[43mGET_PAGE_SOURCE\u001b[49m\u001b[43m)\u001b[49m[\u001b[38;5;124m\"\u001b[39m\u001b[38;5;124mvalue\u001b[39m\u001b[38;5;124m\"\u001b[39m]\n",
      "File \u001b[1;32mc:\\Users\\jrbrz\\.virtualenvs\\propfarm-_NXI0yZr\\lib\\site-packages\\selenium\\webdriver\\remote\\webdriver.py:347\u001b[0m, in \u001b[0;36mWebDriver.execute\u001b[1;34m(self, driver_command, params)\u001b[0m\n\u001b[0;32m    345\u001b[0m response \u001b[38;5;241m=\u001b[39m \u001b[38;5;28mself\u001b[39m\u001b[38;5;241m.\u001b[39mcommand_executor\u001b[38;5;241m.\u001b[39mexecute(driver_command, params)\n\u001b[0;32m    346\u001b[0m \u001b[38;5;28;01mif\u001b[39;00m response:\n\u001b[1;32m--> 347\u001b[0m     \u001b[38;5;28;43mself\u001b[39;49m\u001b[38;5;241;43m.\u001b[39;49m\u001b[43merror_handler\u001b[49m\u001b[38;5;241;43m.\u001b[39;49m\u001b[43mcheck_response\u001b[49m\u001b[43m(\u001b[49m\u001b[43mresponse\u001b[49m\u001b[43m)\u001b[49m\n\u001b[0;32m    348\u001b[0m     response[\u001b[38;5;124m\"\u001b[39m\u001b[38;5;124mvalue\u001b[39m\u001b[38;5;124m\"\u001b[39m] \u001b[38;5;241m=\u001b[39m \u001b[38;5;28mself\u001b[39m\u001b[38;5;241m.\u001b[39m_unwrap_value(response\u001b[38;5;241m.\u001b[39mget(\u001b[38;5;124m\"\u001b[39m\u001b[38;5;124mvalue\u001b[39m\u001b[38;5;124m\"\u001b[39m, \u001b[38;5;28;01mNone\u001b[39;00m))\n\u001b[0;32m    349\u001b[0m     \u001b[38;5;28;01mreturn\u001b[39;00m response\n",
      "File \u001b[1;32mc:\\Users\\jrbrz\\.virtualenvs\\propfarm-_NXI0yZr\\lib\\site-packages\\selenium\\webdriver\\remote\\errorhandler.py:229\u001b[0m, in \u001b[0;36mErrorHandler.check_response\u001b[1;34m(self, response)\u001b[0m\n\u001b[0;32m    227\u001b[0m         alert_text \u001b[38;5;241m=\u001b[39m value[\u001b[38;5;124m\"\u001b[39m\u001b[38;5;124malert\u001b[39m\u001b[38;5;124m\"\u001b[39m]\u001b[38;5;241m.\u001b[39mget(\u001b[38;5;124m\"\u001b[39m\u001b[38;5;124mtext\u001b[39m\u001b[38;5;124m\"\u001b[39m)\n\u001b[0;32m    228\u001b[0m     \u001b[38;5;28;01mraise\u001b[39;00m exception_class(message, screen, stacktrace, alert_text)  \u001b[38;5;66;03m# type: ignore[call-arg]  # mypy is not smart enough here\u001b[39;00m\n\u001b[1;32m--> 229\u001b[0m \u001b[38;5;28;01mraise\u001b[39;00m exception_class(message, screen, stacktrace)\n",
      "\u001b[1;31mWebDriverException\u001b[0m: Message: Failed to decode response from marionette\n"
     ]
    }
   ],
   "source": [
    "scraper.get_nba_team_playtype_data(\n",
    "    base_url = 'https://www.nba.com/stats/teams/{playtype}?TypeGrouping={sideofball}&SeasonType={type}',\n",
    "    play_types = [\n",
    "        'isolation', 'transition', 'ball-handler', 'roll-man', 'playtype-post-up',\n",
    "        'spot-up', 'hand-off', 'cut', 'off-screen','putbacks'\n",
    "    ],\n",
    "    sides = ['offensive', 'defensive'],\n",
    "    season_type = 'Regular+Season',  # ['Regular+Season', 'PlayIn', 'Playoffs']\n",
    "    database_table = 'statsteamplaytypes'\n",
    ")\n",
    "\n",
    "\n",
    "scraper.get_nba_team_shotzone_data(\n",
    "    base_url = 'https://www.nba.com/stats/teams/{sideOfBall}?DistanceRange=By+Zone&LastNGames={lastNgames}&SeasonType={type}&DateTo={endDate}', \n",
    "    sides = {'offensive':'shooting', 'defensive':'opponent-shooting'},\n",
    "    season_type = 'Regular+Season',  # ['Regular+Season', 'PlayIn', 'Playoffs']\n",
    "    lastNgames = lastNgames,\n",
    "    database_table = 'statsteamshotzones',\n",
    "    endDate = today\n",
    ")\n",
    "\n",
    "scraper.get_nba_player_playtype_data(\n",
    "    base_url = 'https://www.nba.com/stats/players/{playtype}?TypeGrouping={sideofball}&SeasonType={type}', \n",
    "    play_types = [\n",
    "        'isolation', 'transition', 'ball-handler', 'roll-man', 'playtype-post-up',\n",
    "        'spot-up', 'hand-off', 'cut', 'off-screen','putbacks'\n",
    "    ],\n",
    "    sides = ['offensive'],\n",
    "    season_type = 'Regular+Season',  # ['Regular+Season', 'PlayIn', 'Playoffs']\n",
    "    database_table = 'statsplayerplaytypes'\n",
    ")\n",
    "\n",
    "scraper.get_nba_player_shotzone_data(\n",
    "    base_url = 'https://www.nba.com/stats/players/shooting?DistanceRange=By+Zone&LastNGames={lastNgames}&SeasonType={type}&DateTo={endDate}', \n",
    "    season_type = 'Regular+Season',  # ['Regular+Season', 'PlayIn', 'Playoffs']\n",
    "    lastNgames = lastNgames,\n",
    "    database_table = 'statsplayershotzones',\n",
    "    endDate = today\n",
    ")\n",
    "\n",
    "scraper.get_nba_player_passing_data(\n",
    "    base_url = 'https://www.nba.com/stats/players/passing?DateFrom={d1}&DateTo={d2}&LastNGames=0&PerMode=Totals&SeasonType={type}', \n",
    "    today_date = today,\n",
    "    day_adjuster = day_adj,\n",
    "    season_type = 'Regular+Season',  # ['Regular+Season', 'PlayIn', 'Playoffs']\n",
    "    #lastNgames = 10,\n",
    "    database_table = 'statsplayerpassing'\n",
    ")\n",
    "\n",
    "scraper.get_nba_player_rebounding_data(\n",
    "    base_url = 'https://www.nba.com/stats/players/rebounding?DateFrom={d1}&DateTo={d2}&LastNGames=0&PerMode=Totals&SeasonType={type}', \n",
    "    today_date = today,\n",
    "    day_adjuster = day_adj,\n",
    "    season_type = 'Regular+Season',  # ['Regular+Season', 'PlayIn', 'Playoffs']\n",
    "    #lastNgames = 10,\n",
    "    database_table = 'statsplayerrebounding'\n",
    ")\n",
    "\n",
    "scraper.get_bref_pos_estimates(\n",
    "        base_url = 'https://www.basketball-reference.com/teams/{team}/{season}.html#pbp', \n",
    "        today_date = today,\n",
    "        season = 2025,\n",
    "        database_table = 'brefmisc'\n",
    ")\n",
    "\n",
    "if scraper.scrape_error_flag:\n",
    "    print(scraper.scrape_errors)"
   ]
  },
  {
   "cell_type": "code",
   "execution_count": 2,
   "id": "cfc593e7",
   "metadata": {},
   "outputs": [
    {
     "name": "stdout",
     "output_type": "stream",
     "text": [
      "Message: Browsing context has been discarded\n",
      "Stacktrace:\n",
      "RemoteError@chrome://remote/content/shared/RemoteError.sys.mjs:8:8\n",
      "WebDriverError@chrome://remote/content/shared/webdriver/Errors.sys.mjs:193:5\n",
      "NoSuchWindowError@chrome://remote/content/shared/webdriver/Errors.sys.mjs:679:5\n",
      "assert.that/<@chrome://remote/content/shared/webdriver/Assert.sys.mjs:515:13\n",
      "assert.open@chrome://remote/content/shared/webdriver/Assert.sys.mjs:147:4\n",
      "GeckoDriver.prototype.getPageSource@chrome://remote/content/marionette/driver.sys.mjs:964:15\n",
      "despatch@chrome://remote/content/marionette/server.sys.mjs:318:40\n",
      "execute@chrome://remote/content/marionette/server.sys.mjs:289:16\n",
      "onPacket/<@chrome://remote/content/marionette/server.sys.mjs:262:20\n",
      "onPacket@chrome://remote/content/marionette/server.sys.mjs:263:9\n",
      "_onJSONObjectReady/<@chrome://remote/content/marionette/transport.sys.mjs:494:20\n",
      "observe@resource://gre/modules/AsyncShutdown.sys.mjs:569:17\n",
      "\n"
     ]
    },
    {
     "ename": "InvalidSessionIdException",
     "evalue": "Message: WebDriver session does not exist, or is not active\nStacktrace:\nRemoteError@chrome://remote/content/shared/RemoteError.sys.mjs:8:8\nWebDriverError@chrome://remote/content/shared/webdriver/Errors.sys.mjs:193:5\nInvalidSessionIDError@chrome://remote/content/shared/webdriver/Errors.sys.mjs:448:5\nassert.that/<@chrome://remote/content/shared/webdriver/Assert.sys.mjs:515:13\nassert.session@chrome://remote/content/shared/webdriver/Assert.sys.mjs:37:4\ndespatch@chrome://remote/content/marionette/server.sys.mjs:315:19\nexecute@chrome://remote/content/marionette/server.sys.mjs:289:16\nonPacket/<@chrome://remote/content/marionette/server.sys.mjs:262:20\nonPacket@chrome://remote/content/marionette/server.sys.mjs:263:9\n_onJSONObjectReady/<@chrome://remote/content/marionette/transport.sys.mjs:494:20\n",
     "output_type": "error",
     "traceback": [
      "\u001b[1;31m---------------------------------------------------------------------------\u001b[0m",
      "\u001b[1;31mNoSuchWindowException\u001b[0m                     Traceback (most recent call last)",
      "File \u001b[1;32mc:\\Users\\jrbrz\\Desktop\\projects\\projects\\propfarm\\scripts\\scrapers\\actNetScraper.py:361\u001b[0m, in \u001b[0;36mactNetScraper.scrape\u001b[1;34m(self, sleep_secs, specific_props, leagues_override, an_state_code)\u001b[0m\n\u001b[0;32m    360\u001b[0m \u001b[38;5;66;03m#getting the site page_source data and adding it to the dictionary for storage\u001b[39;00m\n\u001b[1;32m--> 361\u001b[0m response \u001b[38;5;241m=\u001b[39m \u001b[43mdriver\u001b[49m\u001b[38;5;241;43m.\u001b[39;49m\u001b[43mpage_source\u001b[49m\n\u001b[0;32m    362\u001b[0m \u001b[38;5;28mself\u001b[39m\u001b[38;5;241m.\u001b[39mmap_option_ids[league][pt][\u001b[38;5;124m'\u001b[39m\u001b[38;5;124mhtml_str_responses\u001b[39m\u001b[38;5;124m'\u001b[39m]\u001b[38;5;241m.\u001b[39mappend(response)\n",
      "File \u001b[1;32mc:\\Users\\jrbrz\\.virtualenvs\\propfarm-_NXI0yZr\\lib\\site-packages\\selenium\\webdriver\\remote\\webdriver.py:448\u001b[0m, in \u001b[0;36mWebDriver.page_source\u001b[1;34m(self)\u001b[0m\n\u001b[0;32m    441\u001b[0m \u001b[38;5;250m\u001b[39m\u001b[38;5;124;03m\"\"\"Gets the source of the current page.\u001b[39;00m\n\u001b[0;32m    442\u001b[0m \n\u001b[0;32m    443\u001b[0m \u001b[38;5;124;03m:Usage:\u001b[39;00m\n\u001b[1;32m   (...)\u001b[0m\n\u001b[0;32m    446\u001b[0m \u001b[38;5;124;03m        driver.page_source\u001b[39;00m\n\u001b[0;32m    447\u001b[0m \u001b[38;5;124;03m\"\"\"\u001b[39;00m\n\u001b[1;32m--> 448\u001b[0m \u001b[38;5;28;01mreturn\u001b[39;00m \u001b[38;5;28;43mself\u001b[39;49m\u001b[38;5;241;43m.\u001b[39;49m\u001b[43mexecute\u001b[49m\u001b[43m(\u001b[49m\u001b[43mCommand\u001b[49m\u001b[38;5;241;43m.\u001b[39;49m\u001b[43mGET_PAGE_SOURCE\u001b[49m\u001b[43m)\u001b[49m[\u001b[38;5;124m\"\u001b[39m\u001b[38;5;124mvalue\u001b[39m\u001b[38;5;124m\"\u001b[39m]\n",
      "File \u001b[1;32mc:\\Users\\jrbrz\\.virtualenvs\\propfarm-_NXI0yZr\\lib\\site-packages\\selenium\\webdriver\\remote\\webdriver.py:347\u001b[0m, in \u001b[0;36mWebDriver.execute\u001b[1;34m(self, driver_command, params)\u001b[0m\n\u001b[0;32m    346\u001b[0m \u001b[38;5;28;01mif\u001b[39;00m response:\n\u001b[1;32m--> 347\u001b[0m     \u001b[38;5;28;43mself\u001b[39;49m\u001b[38;5;241;43m.\u001b[39;49m\u001b[43merror_handler\u001b[49m\u001b[38;5;241;43m.\u001b[39;49m\u001b[43mcheck_response\u001b[49m\u001b[43m(\u001b[49m\u001b[43mresponse\u001b[49m\u001b[43m)\u001b[49m\n\u001b[0;32m    348\u001b[0m     response[\u001b[38;5;124m\"\u001b[39m\u001b[38;5;124mvalue\u001b[39m\u001b[38;5;124m\"\u001b[39m] \u001b[38;5;241m=\u001b[39m \u001b[38;5;28mself\u001b[39m\u001b[38;5;241m.\u001b[39m_unwrap_value(response\u001b[38;5;241m.\u001b[39mget(\u001b[38;5;124m\"\u001b[39m\u001b[38;5;124mvalue\u001b[39m\u001b[38;5;124m\"\u001b[39m, \u001b[38;5;28;01mNone\u001b[39;00m))\n",
      "File \u001b[1;32mc:\\Users\\jrbrz\\.virtualenvs\\propfarm-_NXI0yZr\\lib\\site-packages\\selenium\\webdriver\\remote\\errorhandler.py:229\u001b[0m, in \u001b[0;36mErrorHandler.check_response\u001b[1;34m(self, response)\u001b[0m\n\u001b[0;32m    228\u001b[0m     \u001b[38;5;28;01mraise\u001b[39;00m exception_class(message, screen, stacktrace, alert_text)  \u001b[38;5;66;03m# type: ignore[call-arg]  # mypy is not smart enough here\u001b[39;00m\n\u001b[1;32m--> 229\u001b[0m \u001b[38;5;28;01mraise\u001b[39;00m exception_class(message, screen, stacktrace)\n",
      "\u001b[1;31mNoSuchWindowException\u001b[0m: Message: Browsing context has been discarded\nStacktrace:\nRemoteError@chrome://remote/content/shared/RemoteError.sys.mjs:8:8\nWebDriverError@chrome://remote/content/shared/webdriver/Errors.sys.mjs:193:5\nNoSuchWindowError@chrome://remote/content/shared/webdriver/Errors.sys.mjs:679:5\nassert.that/<@chrome://remote/content/shared/webdriver/Assert.sys.mjs:515:13\nassert.open@chrome://remote/content/shared/webdriver/Assert.sys.mjs:147:4\nGeckoDriver.prototype.getPageSource@chrome://remote/content/marionette/driver.sys.mjs:964:15\ndespatch@chrome://remote/content/marionette/server.sys.mjs:318:40\nexecute@chrome://remote/content/marionette/server.sys.mjs:289:16\nonPacket/<@chrome://remote/content/marionette/server.sys.mjs:262:20\nonPacket@chrome://remote/content/marionette/server.sys.mjs:263:9\n_onJSONObjectReady/<@chrome://remote/content/marionette/transport.sys.mjs:494:20\nobserve@resource://gre/modules/AsyncShutdown.sys.mjs:569:17\n",
      "\nDuring handling of the above exception, another exception occurred:\n",
      "\u001b[1;31mInvalidSessionIdException\u001b[0m                 Traceback (most recent call last)",
      "Cell \u001b[1;32mIn[2], line 1\u001b[0m\n\u001b[1;32m----> 1\u001b[0m \u001b[43mprop_scraper\u001b[49m\u001b[38;5;241;43m.\u001b[39;49m\u001b[43mscrape\u001b[49m\u001b[43m(\u001b[49m\n\u001b[0;32m      2\u001b[0m \u001b[43m    \u001b[49m\u001b[43msleep_secs\u001b[49m\u001b[43m \u001b[49m\u001b[38;5;241;43m=\u001b[39;49m\u001b[43m \u001b[49m\u001b[38;5;241;43m3\u001b[39;49m\u001b[43m,\u001b[49m\u001b[43m \u001b[49m\n\u001b[0;32m      3\u001b[0m \u001b[43m    \u001b[49m\u001b[43mspecific_props\u001b[49m\u001b[43m \u001b[49m\u001b[38;5;241;43m=\u001b[39;49m\u001b[43m \u001b[49m\u001b[43mspecified\u001b[49m\u001b[43m,\u001b[49m\n\u001b[0;32m      4\u001b[0m \u001b[43m    \u001b[49m\u001b[43mleagues_override\u001b[49m\u001b[43m \u001b[49m\u001b[38;5;241;43m=\u001b[39;49m\u001b[43m \u001b[49m\u001b[43mleagues\u001b[49m\u001b[43m,\u001b[49m\n\u001b[0;32m      5\u001b[0m \u001b[43m    \u001b[49m\u001b[43man_state_code\u001b[49m\u001b[43m \u001b[49m\u001b[38;5;241;43m=\u001b[39;49m\u001b[43m \u001b[49m\u001b[38;5;124;43m'\u001b[39;49m\u001b[38;5;124;43mBC\u001b[39;49m\u001b[38;5;124;43m'\u001b[39;49m\n\u001b[0;32m      6\u001b[0m \u001b[43m)\u001b[49m\n\u001b[0;32m      8\u001b[0m prop_scraper\u001b[38;5;241m.\u001b[39mprocessScrapes(\n\u001b[0;32m      9\u001b[0m     remove_dups \u001b[38;5;241m=\u001b[39m \u001b[38;5;28;01mTrue\u001b[39;00m,\n\u001b[0;32m     10\u001b[0m     specific_props \u001b[38;5;241m=\u001b[39m specified\n\u001b[0;32m     11\u001b[0m )\n\u001b[0;32m     13\u001b[0m \u001b[38;5;28;01mif\u001b[39;00m prop_scraper\u001b[38;5;241m.\u001b[39mscrape_error_flag:\n",
      "File \u001b[1;32mc:\\Users\\jrbrz\\Desktop\\projects\\projects\\propfarm\\scripts\\scrapers\\actNetScraper.py:369\u001b[0m, in \u001b[0;36mactNetScraper.scrape\u001b[1;34m(self, sleep_secs, specific_props, leagues_override, an_state_code)\u001b[0m\n\u001b[0;32m    366\u001b[0m     \u001b[38;5;28;01mexcept\u001b[39;00m \u001b[38;5;167;01mException\u001b[39;00m \u001b[38;5;28;01mas\u001b[39;00m e:\n\u001b[0;32m    368\u001b[0m         \u001b[38;5;28mprint\u001b[39m(e)\n\u001b[1;32m--> 369\u001b[0m         \u001b[43mdriver\u001b[49m\u001b[38;5;241;43m.\u001b[39;49m\u001b[43mclose\u001b[49m\u001b[43m(\u001b[49m\u001b[43m)\u001b[49m\n\u001b[0;32m    371\u001b[0m driver\u001b[38;5;241m.\u001b[39mclose()\n\u001b[0;32m    372\u001b[0m \u001b[38;5;28;01mreturn\u001b[39;00m\n",
      "File \u001b[1;32mc:\\Users\\jrbrz\\.virtualenvs\\propfarm-_NXI0yZr\\lib\\site-packages\\selenium\\webdriver\\remote\\webdriver.py:458\u001b[0m, in \u001b[0;36mWebDriver.close\u001b[1;34m(self)\u001b[0m\n\u001b[0;32m    450\u001b[0m \u001b[38;5;28;01mdef\u001b[39;00m \u001b[38;5;21mclose\u001b[39m(\u001b[38;5;28mself\u001b[39m) \u001b[38;5;241m-\u001b[39m\u001b[38;5;241m>\u001b[39m \u001b[38;5;28;01mNone\u001b[39;00m:\n\u001b[0;32m    451\u001b[0m \u001b[38;5;250m    \u001b[39m\u001b[38;5;124;03m\"\"\"Closes the current window.\u001b[39;00m\n\u001b[0;32m    452\u001b[0m \n\u001b[0;32m    453\u001b[0m \u001b[38;5;124;03m    :Usage:\u001b[39;00m\n\u001b[1;32m   (...)\u001b[0m\n\u001b[0;32m    456\u001b[0m \u001b[38;5;124;03m            driver.close()\u001b[39;00m\n\u001b[0;32m    457\u001b[0m \u001b[38;5;124;03m    \"\"\"\u001b[39;00m\n\u001b[1;32m--> 458\u001b[0m     \u001b[38;5;28;43mself\u001b[39;49m\u001b[38;5;241;43m.\u001b[39;49m\u001b[43mexecute\u001b[49m\u001b[43m(\u001b[49m\u001b[43mCommand\u001b[49m\u001b[38;5;241;43m.\u001b[39;49m\u001b[43mCLOSE\u001b[49m\u001b[43m)\u001b[49m\n",
      "File \u001b[1;32mc:\\Users\\jrbrz\\.virtualenvs\\propfarm-_NXI0yZr\\lib\\site-packages\\selenium\\webdriver\\remote\\webdriver.py:347\u001b[0m, in \u001b[0;36mWebDriver.execute\u001b[1;34m(self, driver_command, params)\u001b[0m\n\u001b[0;32m    345\u001b[0m response \u001b[38;5;241m=\u001b[39m \u001b[38;5;28mself\u001b[39m\u001b[38;5;241m.\u001b[39mcommand_executor\u001b[38;5;241m.\u001b[39mexecute(driver_command, params)\n\u001b[0;32m    346\u001b[0m \u001b[38;5;28;01mif\u001b[39;00m response:\n\u001b[1;32m--> 347\u001b[0m     \u001b[38;5;28;43mself\u001b[39;49m\u001b[38;5;241;43m.\u001b[39;49m\u001b[43merror_handler\u001b[49m\u001b[38;5;241;43m.\u001b[39;49m\u001b[43mcheck_response\u001b[49m\u001b[43m(\u001b[49m\u001b[43mresponse\u001b[49m\u001b[43m)\u001b[49m\n\u001b[0;32m    348\u001b[0m     response[\u001b[38;5;124m\"\u001b[39m\u001b[38;5;124mvalue\u001b[39m\u001b[38;5;124m\"\u001b[39m] \u001b[38;5;241m=\u001b[39m \u001b[38;5;28mself\u001b[39m\u001b[38;5;241m.\u001b[39m_unwrap_value(response\u001b[38;5;241m.\u001b[39mget(\u001b[38;5;124m\"\u001b[39m\u001b[38;5;124mvalue\u001b[39m\u001b[38;5;124m\"\u001b[39m, \u001b[38;5;28;01mNone\u001b[39;00m))\n\u001b[0;32m    349\u001b[0m     \u001b[38;5;28;01mreturn\u001b[39;00m response\n",
      "File \u001b[1;32mc:\\Users\\jrbrz\\.virtualenvs\\propfarm-_NXI0yZr\\lib\\site-packages\\selenium\\webdriver\\remote\\errorhandler.py:229\u001b[0m, in \u001b[0;36mErrorHandler.check_response\u001b[1;34m(self, response)\u001b[0m\n\u001b[0;32m    227\u001b[0m         alert_text \u001b[38;5;241m=\u001b[39m value[\u001b[38;5;124m\"\u001b[39m\u001b[38;5;124malert\u001b[39m\u001b[38;5;124m\"\u001b[39m]\u001b[38;5;241m.\u001b[39mget(\u001b[38;5;124m\"\u001b[39m\u001b[38;5;124mtext\u001b[39m\u001b[38;5;124m\"\u001b[39m)\n\u001b[0;32m    228\u001b[0m     \u001b[38;5;28;01mraise\u001b[39;00m exception_class(message, screen, stacktrace, alert_text)  \u001b[38;5;66;03m# type: ignore[call-arg]  # mypy is not smart enough here\u001b[39;00m\n\u001b[1;32m--> 229\u001b[0m \u001b[38;5;28;01mraise\u001b[39;00m exception_class(message, screen, stacktrace)\n",
      "\u001b[1;31mInvalidSessionIdException\u001b[0m: Message: WebDriver session does not exist, or is not active\nStacktrace:\nRemoteError@chrome://remote/content/shared/RemoteError.sys.mjs:8:8\nWebDriverError@chrome://remote/content/shared/webdriver/Errors.sys.mjs:193:5\nInvalidSessionIDError@chrome://remote/content/shared/webdriver/Errors.sys.mjs:448:5\nassert.that/<@chrome://remote/content/shared/webdriver/Assert.sys.mjs:515:13\nassert.session@chrome://remote/content/shared/webdriver/Assert.sys.mjs:37:4\ndespatch@chrome://remote/content/marionette/server.sys.mjs:315:19\nexecute@chrome://remote/content/marionette/server.sys.mjs:289:16\nonPacket/<@chrome://remote/content/marionette/server.sys.mjs:262:20\nonPacket@chrome://remote/content/marionette/server.sys.mjs:263:9\n_onJSONObjectReady/<@chrome://remote/content/marionette/transport.sys.mjs:494:20\n"
     ]
    }
   ],
   "source": [
    "prop_scraper.scrape(\n",
    "    sleep_secs = 3, \n",
    "    specific_props = specified,\n",
    "    leagues_override = leagues,\n",
    "    an_state_code = 'BC'\n",
    ")\n",
    "\n",
    "prop_scraper.processScrapes(\n",
    "    remove_dups = True,\n",
    "    specific_props = specified\n",
    ")\n",
    "\n",
    "if prop_scraper.scrape_error_flag:\n",
    "    print(prop_scraper.scrape_errors)\n",
    "    #prop_scraper.tryMissingProps()\n"
   ]
  },
  {
   "cell_type": "code",
   "execution_count": null,
   "id": "e9bf58df",
   "metadata": {},
   "outputs": [],
   "source": [
    "#prop_scraper.tryMissingProps()\n",
    "# this didn't work as expected, \n",
    "#### added SOG to the nba scrape_errors\n",
    "#### added new key-value pair for the missing prop:  'missing_dates': ['sog', '2025-01-02', 0]"
   ]
  },
  {
   "cell_type": "code",
   "execution_count": 11,
   "id": "369da388",
   "metadata": {},
   "outputs": [
    {
     "data": {
      "text/plain": [
       "{'nfl': {'missing_dates': [], 'missing_props': [], 'db': []}}"
      ]
     },
     "execution_count": 11,
     "metadata": {},
     "output_type": "execute_result"
    }
   ],
   "source": [
    "prop_scraper.scrape_errors"
   ]
  },
  {
   "cell_type": "code",
   "execution_count": 7,
   "id": "68eb0afd",
   "metadata": {},
   "outputs": [],
   "source": [
    "missing = prop_scraper.scrape_errors\n",
    "del missing['nfl']\n",
    "#prop_scraper.scrape_errors"
   ]
  },
  {
   "cell_type": "code",
   "execution_count": 8,
   "id": "51fd7071",
   "metadata": {},
   "outputs": [
    {
     "name": "stdout",
     "output_type": "stream",
     "text": [
      "rescraping nba for ['ast', 'pra', 'pts', 'reb', 'stl']\n",
      "scraping nba ...\n",
      "original rows:  (654, 20)\n",
      "after dups removed:  (654, 20)\n",
      "[]\n",
      "nba odds data loaded...\n",
      "prop          ast  pra  pts  reb  stl\n",
      "propId count  131  132  133  133  125\n"
     ]
    }
   ],
   "source": [
    "# scrape missed props\n",
    "import random\n",
    "wait_secs = random.randint(1,5)\n",
    "\n",
    "for k, v in missing.items():\n",
    "\n",
    "    if len(v['missing_props']) > 0:\n",
    "        leagues_with_missing_props = [k]\n",
    "        missing_props = v['missing_props']\n",
    "        print('rescraping', k, 'for', missing_props)\n",
    "\n",
    "        prop_scraper_missing = ans.actNetScraper(\n",
    "            browser_path = '..\\\\..\\\\browser\\\\geckodriver.exe',\n",
    "            dates = dates,\n",
    "            leagues = leagues_with_missing_props,\n",
    "            database_export = database_export, \n",
    "            store_locally = store_locally,\n",
    "            config_path = '..\\\\..\\\\..\\\\..\\\\Notes-General\\\\config.txt',\n",
    "            second_run=True\n",
    "        )\n",
    "\n",
    "        prop_scraper_missing.scrape(\n",
    "            sleep_secs = wait_secs, \n",
    "            specific_props = missing_props,\n",
    "            leagues_override = None\n",
    "        )\n",
    "\n",
    "        prop_scraper_missing.processScrapes(\n",
    "            remove_dups = True,\n",
    "            specific_props = missing_props\n",
    "        )"
   ]
  },
  {
   "cell_type": "code",
   "execution_count": null,
   "id": "03df63d2",
   "metadata": {},
   "outputs": [],
   "source": [
    "mfl \n"
   ]
  }
 ],
 "metadata": {
  "kernelspec": {
   "display_name": "propfarm-_NXI0yZr",
   "language": "python",
   "name": "python3"
  },
  "language_info": {
   "codemirror_mode": {
    "name": "ipython",
    "version": 3
   },
   "file_extension": ".py",
   "mimetype": "text/x-python",
   "name": "python",
   "nbconvert_exporter": "python",
   "pygments_lexer": "ipython3",
   "version": "3.9.5"
  }
 },
 "nbformat": 4,
 "nbformat_minor": 5
}
