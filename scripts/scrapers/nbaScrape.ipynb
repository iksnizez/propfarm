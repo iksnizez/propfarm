{
 "cells": [
  {
   "cell_type": "code",
   "execution_count": 8,
   "id": "eee6c360",
   "metadata": {},
   "outputs": [
    {
     "name": "stdout",
     "output_type": "stream",
     "text": [
      "scraping for ['nba'] on ['2025-02-14']\n"
     ]
    }
   ],
   "source": [
    "import nbaScraper as ns\n",
    "import actNetScraper as ans\n",
    "from datetime import datetime, timedelta\n",
    "\n",
    "database_export = True\n",
    "store_locally = True\n",
    "\n",
    "# nba website, basketball referenece scraper\n",
    "scraper = ns.scraper(\n",
    "    browser_path = '..\\\\..\\\\browser\\\\geckodriver.exe',\n",
    "    database_export = database_export, \n",
    "    store_locally = store_locally,\n",
    "    pymysql_conn_str =  None\n",
    ")\n",
    "today = scraper.meta_data['today_dt']\n",
    "lastNgames = 10\n",
    "day_adj = -1\n",
    "\n",
    "### prop line/odd scraper\n",
    "leagues = None   # None or list ['nba', 'nhl', 'nfl']\n",
    "specified =  []\n",
    "# day adjustment from today (date of running script), negative = dates into the past\n",
    "dayJump = 0 \n",
    "# date can be a list of dates if multiple need scraping 'YYYY-MM-DD'\n",
    "# default is to only pull today or today + dayJump\n",
    "dates = [(datetime.today() + timedelta(days=dayJump)).strftime('%Y-%m-%d')]\n",
    "#dates = ['2024-01-05']#, '2024-01-06', '2024-01-07', '2024-01-08', '2024-01-09', '2024-01-10', '2024-01-11']\n",
    "\n",
    "prop_scraper = ans.actNetScraper(\n",
    "    browser_path = '..\\\\..\\\\browser\\\\geckodriver.exe',\n",
    "    dates = dates,\n",
    "    leagues = leagues,\n",
    "    database_export = database_export, \n",
    "    store_locally = store_locally,\n",
    "    config_path = '..\\\\..\\\\..\\\\..\\\\Notes-General\\\\config.txt',\n",
    "    second_run = False\n",
    ")\n",
    "\n",
    "# turn to False if issues loading new players\n",
    "#prop_scraper.update_players = False\n",
    "\n",
    "# update the league list to only ones with games today\n",
    "#leagues = prop_scraper.check_for_league_games(date_check = None, update_class_leagues_var = True)\n",
    "print('scraping for', prop_scraper.leagues, 'on', prop_scraper.dates)"
   ]
  },
  {
   "cell_type": "code",
   "execution_count": 9,
   "id": "cfc593e7",
   "metadata": {},
   "outputs": [
    {
     "name": "stdout",
     "output_type": "stream",
     "text": [
      "scraping nba ...\n",
      "original rows:  (70, 18)\n",
      "after dups removed:  (70, 18)\n"
     ]
    },
    {
     "ename": "KeyError",
     "evalue": "\"['player', 'abbr'] not in index\"",
     "output_type": "error",
     "traceback": [
      "\u001b[1;31m---------------------------------------------------------------------------\u001b[0m",
      "\u001b[1;31mKeyError\u001b[0m                                  Traceback (most recent call last)",
      "Cell \u001b[1;32mIn[9], line 8\u001b[0m\n\u001b[0;32m      1\u001b[0m prop_scraper\u001b[38;5;241m.\u001b[39mscrape(\n\u001b[0;32m      2\u001b[0m     sleep_secs \u001b[38;5;241m=\u001b[39m \u001b[38;5;241m3\u001b[39m, \n\u001b[0;32m      3\u001b[0m     specific_props \u001b[38;5;241m=\u001b[39m specified,\n\u001b[0;32m      4\u001b[0m     leagues_override \u001b[38;5;241m=\u001b[39m leagues,\n\u001b[0;32m      5\u001b[0m     an_state_code \u001b[38;5;241m=\u001b[39m \u001b[38;5;124m'\u001b[39m\u001b[38;5;124mBC\u001b[39m\u001b[38;5;124m'\u001b[39m\n\u001b[0;32m      6\u001b[0m )\n\u001b[1;32m----> 8\u001b[0m \u001b[43mprop_scraper\u001b[49m\u001b[38;5;241;43m.\u001b[39;49m\u001b[43mprocessScrapes\u001b[49m\u001b[43m(\u001b[49m\n\u001b[0;32m      9\u001b[0m \u001b[43m    \u001b[49m\u001b[43mremove_dups\u001b[49m\u001b[43m \u001b[49m\u001b[38;5;241;43m=\u001b[39;49m\u001b[43m \u001b[49m\u001b[38;5;28;43;01mTrue\u001b[39;49;00m\u001b[43m,\u001b[49m\n\u001b[0;32m     10\u001b[0m \u001b[43m    \u001b[49m\u001b[43mspecific_props\u001b[49m\u001b[43m \u001b[49m\u001b[38;5;241;43m=\u001b[39;49m\u001b[43m \u001b[49m\u001b[43mspecified\u001b[49m\n\u001b[0;32m     11\u001b[0m \u001b[43m)\u001b[49m\n\u001b[0;32m     13\u001b[0m \u001b[38;5;28;01mif\u001b[39;00m prop_scraper\u001b[38;5;241m.\u001b[39mscrape_error_flag:\n\u001b[0;32m     14\u001b[0m     \u001b[38;5;28mprint\u001b[39m(prop_scraper\u001b[38;5;241m.\u001b[39mscrape_errors)\n",
      "File \u001b[1;32mc:\\Users\\jrbrz\\Desktop\\projects\\projects\\propfarm\\scripts\\scrapers\\actNetScraper.py:642\u001b[0m, in \u001b[0;36mactNetScraper.processScrapes\u001b[1;34m(self, leagues_override, remove_dups, specific_props)\u001b[0m\n\u001b[0;32m    639\u001b[0m     \u001b[38;5;28mself\u001b[39m\u001b[38;5;241m.\u001b[39mdata_all[league] \u001b[38;5;241m=\u001b[39m df_props\n\u001b[0;32m    641\u001b[0m \u001b[38;5;28;01mif\u001b[39;00m \u001b[38;5;28mself\u001b[39m\u001b[38;5;241m.\u001b[39mdatabase_export:\n\u001b[1;32m--> 642\u001b[0m     \u001b[38;5;28;43mself\u001b[39;49m\u001b[38;5;241;43m.\u001b[39;49m\u001b[43mloadDb\u001b[49m\u001b[43m(\u001b[49m\n\u001b[0;32m    643\u001b[0m \u001b[43m        \u001b[49m\u001b[43mdf_props\u001b[49m\u001b[43m \u001b[49m\u001b[38;5;241;43m=\u001b[39;49m\u001b[43m \u001b[49m\u001b[43mdf_props\u001b[49m\u001b[43m,\u001b[49m\u001b[43m \u001b[49m\n\u001b[0;32m    644\u001b[0m \u001b[43m        \u001b[49m\u001b[43mleague\u001b[49m\u001b[43m \u001b[49m\u001b[38;5;241;43m=\u001b[39;49m\u001b[43m \u001b[49m\u001b[43mleague\u001b[49m\u001b[43m,\u001b[49m\u001b[43m \u001b[49m\n\u001b[0;32m    645\u001b[0m \u001b[43m        \u001b[49m\u001b[43moddsTableName\u001b[49m\u001b[43m \u001b[49m\u001b[38;5;241;43m=\u001b[39;49m\u001b[43m \u001b[49m\u001b[38;5;124;43m'\u001b[39;49m\u001b[38;5;124;43modds\u001b[39;49m\u001b[38;5;124;43m'\u001b[39;49m\u001b[43m,\u001b[49m\u001b[43m \u001b[49m\n\u001b[0;32m    646\u001b[0m \u001b[43m        \u001b[49m\u001b[43mdbAction\u001b[49m\u001b[43m \u001b[49m\u001b[38;5;241;43m=\u001b[39;49m\u001b[43m \u001b[49m\u001b[38;5;124;43m'\u001b[39;49m\u001b[38;5;124;43mappend\u001b[39;49m\u001b[38;5;124;43m'\u001b[39;49m\u001b[43m,\u001b[49m\u001b[43m \u001b[49m\n\u001b[0;32m    647\u001b[0m \u001b[43m        \u001b[49m\u001b[43mupdate_players\u001b[49m\u001b[43m \u001b[49m\u001b[38;5;241;43m=\u001b[39;49m\u001b[43m \u001b[49m\u001b[38;5;28;43mself\u001b[39;49m\u001b[38;5;241;43m.\u001b[39;49m\u001b[43mupdate_players\u001b[49m\u001b[43m,\u001b[49m\n\u001b[0;32m    648\u001b[0m \u001b[43m        \u001b[49m\u001b[43mplayerTableName\u001b[49m\u001b[43m \u001b[49m\u001b[38;5;241;43m=\u001b[39;49m\u001b[43m \u001b[49m\u001b[38;5;124;43m'\u001b[39;49m\u001b[38;5;124;43mactnetplayers\u001b[39;49m\u001b[38;5;124;43m'\u001b[39;49m\n\u001b[0;32m    649\u001b[0m \u001b[43m    \u001b[49m\u001b[43m)\u001b[49m\n\u001b[0;32m    652\u001b[0m \u001b[38;5;66;03m# final console output and checking for missed props\u001b[39;00m\n\u001b[0;32m    653\u001b[0m \u001b[38;5;28;01mif\u001b[39;00m \u001b[38;5;28mlen\u001b[39m(specific_props) \u001b[38;5;241m>\u001b[39m \u001b[38;5;241m0\u001b[39m:  \u001b[38;5;66;03m# TODO this is only build for the class initiated to a single date and league (used on missing props from the first run)\u001b[39;00m\n",
      "File \u001b[1;32mc:\\Users\\jrbrz\\Desktop\\projects\\projects\\propfarm\\scripts\\scrapers\\actNetScraper.py:691\u001b[0m, in \u001b[0;36mactNetScraper.loadDb\u001b[1;34m(self, df_props, league, oddsTableName, dbAction, update_players, playerTableName)\u001b[0m\n\u001b[0;32m    689\u001b[0m \u001b[38;5;66;03m#removing player names to load into db\u001b[39;00m\n\u001b[0;32m    690\u001b[0m \u001b[38;5;28;01mif\u001b[39;00m update_players:\n\u001b[1;32m--> 691\u001b[0m     df_players \u001b[38;5;241m=\u001b[39m \u001b[43mdf_props\u001b[49m\u001b[43m[\u001b[49m\u001b[43m[\u001b[49m\u001b[38;5;124;43m'\u001b[39;49m\u001b[38;5;124;43mplayerId\u001b[39;49m\u001b[38;5;124;43m'\u001b[39;49m\u001b[43m,\u001b[49m\u001b[38;5;124;43m'\u001b[39;49m\u001b[38;5;124;43mplayer\u001b[39;49m\u001b[38;5;124;43m'\u001b[39;49m\u001b[43m,\u001b[49m\u001b[38;5;124;43m'\u001b[39;49m\u001b[38;5;124;43mabbr\u001b[39;49m\u001b[38;5;124;43m'\u001b[39;49m\u001b[43m]\u001b[49m\u001b[43m]\u001b[49m\n\u001b[0;32m    692\u001b[0m     df_props \u001b[38;5;241m=\u001b[39m df_props[df_props\u001b[38;5;241m.\u001b[39mcolumns[\u001b[38;5;241m~\u001b[39mdf_props\u001b[38;5;241m.\u001b[39mcolumns\u001b[38;5;241m.\u001b[39misin([\u001b[38;5;124m'\u001b[39m\u001b[38;5;124mplayer\u001b[39m\u001b[38;5;124m'\u001b[39m,\u001b[38;5;124m'\u001b[39m\u001b[38;5;124mabbr\u001b[39m\u001b[38;5;124m'\u001b[39m])]]\n\u001b[0;32m    693\u001b[0m \u001b[38;5;28;01melse\u001b[39;00m:\n",
      "File \u001b[1;32mc:\\Users\\jrbrz\\.virtualenvs\\propfarm-_NXI0yZr\\lib\\site-packages\\pandas\\core\\frame.py:3899\u001b[0m, in \u001b[0;36mDataFrame.__getitem__\u001b[1;34m(self, key)\u001b[0m\n\u001b[0;32m   3897\u001b[0m     \u001b[38;5;28;01mif\u001b[39;00m is_iterator(key):\n\u001b[0;32m   3898\u001b[0m         key \u001b[38;5;241m=\u001b[39m \u001b[38;5;28mlist\u001b[39m(key)\n\u001b[1;32m-> 3899\u001b[0m     indexer \u001b[38;5;241m=\u001b[39m \u001b[38;5;28;43mself\u001b[39;49m\u001b[38;5;241;43m.\u001b[39;49m\u001b[43mcolumns\u001b[49m\u001b[38;5;241;43m.\u001b[39;49m\u001b[43m_get_indexer_strict\u001b[49m\u001b[43m(\u001b[49m\u001b[43mkey\u001b[49m\u001b[43m,\u001b[49m\u001b[43m \u001b[49m\u001b[38;5;124;43m\"\u001b[39;49m\u001b[38;5;124;43mcolumns\u001b[39;49m\u001b[38;5;124;43m\"\u001b[39;49m\u001b[43m)\u001b[49m[\u001b[38;5;241m1\u001b[39m]\n\u001b[0;32m   3901\u001b[0m \u001b[38;5;66;03m# take() does not accept boolean indexers\u001b[39;00m\n\u001b[0;32m   3902\u001b[0m \u001b[38;5;28;01mif\u001b[39;00m \u001b[38;5;28mgetattr\u001b[39m(indexer, \u001b[38;5;124m\"\u001b[39m\u001b[38;5;124mdtype\u001b[39m\u001b[38;5;124m\"\u001b[39m, \u001b[38;5;28;01mNone\u001b[39;00m) \u001b[38;5;241m==\u001b[39m \u001b[38;5;28mbool\u001b[39m:\n",
      "File \u001b[1;32mc:\\Users\\jrbrz\\.virtualenvs\\propfarm-_NXI0yZr\\lib\\site-packages\\pandas\\core\\indexes\\base.py:6114\u001b[0m, in \u001b[0;36mIndex._get_indexer_strict\u001b[1;34m(self, key, axis_name)\u001b[0m\n\u001b[0;32m   6111\u001b[0m \u001b[38;5;28;01melse\u001b[39;00m:\n\u001b[0;32m   6112\u001b[0m     keyarr, indexer, new_indexer \u001b[38;5;241m=\u001b[39m \u001b[38;5;28mself\u001b[39m\u001b[38;5;241m.\u001b[39m_reindex_non_unique(keyarr)\n\u001b[1;32m-> 6114\u001b[0m \u001b[38;5;28;43mself\u001b[39;49m\u001b[38;5;241;43m.\u001b[39;49m\u001b[43m_raise_if_missing\u001b[49m\u001b[43m(\u001b[49m\u001b[43mkeyarr\u001b[49m\u001b[43m,\u001b[49m\u001b[43m \u001b[49m\u001b[43mindexer\u001b[49m\u001b[43m,\u001b[49m\u001b[43m \u001b[49m\u001b[43maxis_name\u001b[49m\u001b[43m)\u001b[49m\n\u001b[0;32m   6116\u001b[0m keyarr \u001b[38;5;241m=\u001b[39m \u001b[38;5;28mself\u001b[39m\u001b[38;5;241m.\u001b[39mtake(indexer)\n\u001b[0;32m   6117\u001b[0m \u001b[38;5;28;01mif\u001b[39;00m \u001b[38;5;28misinstance\u001b[39m(key, Index):\n\u001b[0;32m   6118\u001b[0m     \u001b[38;5;66;03m# GH 42790 - Preserve name from an Index\u001b[39;00m\n",
      "File \u001b[1;32mc:\\Users\\jrbrz\\.virtualenvs\\propfarm-_NXI0yZr\\lib\\site-packages\\pandas\\core\\indexes\\base.py:6178\u001b[0m, in \u001b[0;36mIndex._raise_if_missing\u001b[1;34m(self, key, indexer, axis_name)\u001b[0m\n\u001b[0;32m   6175\u001b[0m     \u001b[38;5;28;01mraise\u001b[39;00m \u001b[38;5;167;01mKeyError\u001b[39;00m(\u001b[38;5;124mf\u001b[39m\u001b[38;5;124m\"\u001b[39m\u001b[38;5;124mNone of [\u001b[39m\u001b[38;5;132;01m{\u001b[39;00mkey\u001b[38;5;132;01m}\u001b[39;00m\u001b[38;5;124m] are in the [\u001b[39m\u001b[38;5;132;01m{\u001b[39;00maxis_name\u001b[38;5;132;01m}\u001b[39;00m\u001b[38;5;124m]\u001b[39m\u001b[38;5;124m\"\u001b[39m)\n\u001b[0;32m   6177\u001b[0m not_found \u001b[38;5;241m=\u001b[39m \u001b[38;5;28mlist\u001b[39m(ensure_index(key)[missing_mask\u001b[38;5;241m.\u001b[39mnonzero()[\u001b[38;5;241m0\u001b[39m]]\u001b[38;5;241m.\u001b[39munique())\n\u001b[1;32m-> 6178\u001b[0m \u001b[38;5;28;01mraise\u001b[39;00m \u001b[38;5;167;01mKeyError\u001b[39;00m(\u001b[38;5;124mf\u001b[39m\u001b[38;5;124m\"\u001b[39m\u001b[38;5;132;01m{\u001b[39;00mnot_found\u001b[38;5;132;01m}\u001b[39;00m\u001b[38;5;124m not in index\u001b[39m\u001b[38;5;124m\"\u001b[39m)\n",
      "\u001b[1;31mKeyError\u001b[0m: \"['player', 'abbr'] not in index\""
     ]
    }
   ],
   "source": [
    "prop_scraper.scrape(\n",
    "    sleep_secs = 3, \n",
    "    specific_props = specified,\n",
    "    leagues_override = leagues,\n",
    "    an_state_code = 'BC'\n",
    ")\n",
    "\n",
    "prop_scraper.processScrapes(\n",
    "    remove_dups = True,\n",
    "    specific_props = specified\n",
    ")\n",
    "\n",
    "if prop_scraper.scrape_error_flag:\n",
    "    print(prop_scraper.scrape_errors)\n",
    "    #prop_scraper.tryMissingProps()\n"
   ]
  },
  {
   "cell_type": "code",
   "execution_count": 6,
   "id": "8dd73cd4",
   "metadata": {},
   "outputs": [
    {
     "name": "stdout",
     "output_type": "stream",
     "text": [
      "nba team play type scraped...\n",
      "nba team shot zone scraped...\n",
      "nba team stats scraped...\n",
      "nba player play type scraped...\n",
      "nba player shot zone scraped...\n",
      "nba player passing scraped...\n",
      "nba player rebounding scraped...\n",
      "bref player pos estimates scraped...\n",
      "{'statsteamplaytypes': {'url': [], 'db': []}, 'statsteamshotzones': {'url': [[{'defensive': 'opponent-shooting'}, '10', 'Regular+Season']], 'db': []}, 'statsteam': {'url': [], 'db': []}, 'statsplayerplaytypes': {'url': [], 'db': []}, 'statsplayershotzones': {'url': [], 'db': []}, 'statsplayerpassing': {'url': [], 'db': []}, 'statsplayerrebounding': {'url': [], 'db': []}, 'brefmisc': {'url': [], 'db': []}}\n"
     ]
    }
   ],
   "source": [
    "scraper.get_nba_team_playtype_data(\n",
    "    base_url = 'https://www.nba.com/stats/teams/{playtype}?TypeGrouping={sideofball}&SeasonType={type}',\n",
    "    play_types = [\n",
    "        'isolation', 'transition', 'ball-handler', 'roll-man', 'playtype-post-up',\n",
    "        'spot-up', 'hand-off', 'cut', 'off-screen','putbacks'\n",
    "    ],\n",
    "    sides = ['offensive', 'defensive'],\n",
    "    season_type = 'Regular+Season',  # ['Regular+Season', 'PlayIn', 'Playoffs']\n",
    "    database_table = 'statsteamplaytypes'\n",
    ")\n",
    "\n",
    "scraper.get_nba_team_shotzone_data(\n",
    "    base_url = 'https://www.nba.com/stats/teams/{sideOfBall}?DistanceRange=By+Zone&LastNGames={lastNgames}&SeasonType={type}&DateTo={endDate}', \n",
    "    sides = {'offensive':'shooting', 'defensive':'opponent-shooting'},\n",
    "    season_type = 'Regular+Season',  # ['Regular+Season', 'PlayIn', 'Playoffs']\n",
    "    lastNgames = lastNgames,\n",
    "    database_table = 'statsteamshotzones',\n",
    "    endDate = today\n",
    ")\n",
    "\n",
    "scraper.get_nba_team_stats(\n",
    "        base_url = 'https://www.nba.com/stats/teams/{stats}?SeasonType={seasonType}',\n",
    "        stats = ['traditional', 'advanced', 'opponent'],\n",
    "        season_type = 'Regular+Season',  # ['Regular+Season', 'PlayIn', 'Playoffs']\n",
    "        lastNgames = 0,\n",
    "        database_table = 'statsteam',\n",
    "        endDate = None\n",
    ")\n",
    "\n",
    "scraper.get_nba_player_playtype_data(\n",
    "    base_url = 'https://www.nba.com/stats/players/{playtype}?TypeGrouping={sideofball}&SeasonType={type}', \n",
    "    play_types = [\n",
    "        'isolation', 'transition', 'ball-handler', 'roll-man', 'playtype-post-up',\n",
    "        'spot-up', 'hand-off', 'cut', 'off-screen','putbacks'\n",
    "    ],\n",
    "    sides = ['offensive'],\n",
    "    season_type = 'Regular+Season',  # ['Regular+Season', 'PlayIn', 'Playoffs']\n",
    "    database_table = 'statsplayerplaytypes'\n",
    ")\n",
    "\n",
    "scraper.get_nba_player_shotzone_data(\n",
    "    base_url = 'https://www.nba.com/stats/players/shooting?DistanceRange=By+Zone&LastNGames={lastNgames}&SeasonType={type}&DateTo={endDate}', \n",
    "    season_type = 'Regular+Season',  # ['Regular+Season', 'PlayIn', 'Playoffs']\n",
    "    lastNgames = lastNgames,\n",
    "    database_table = 'statsplayershotzones',\n",
    "    endDate = today\n",
    ")\n",
    "\n",
    "scraper.get_nba_player_passing_data(\n",
    "    base_url = 'https://www.nba.com/stats/players/passing?DateFrom={d1}&DateTo={d2}&LastNGames=0&PerMode=Totals&SeasonType={type}', \n",
    "    today_date = today,\n",
    "    day_adjuster = day_adj,\n",
    "    season_type = 'Regular+Season',  # ['Regular+Season', 'PlayIn', 'Playoffs']\n",
    "    #lastNgames = 10,\n",
    "    database_table = 'statsplayerpassing'\n",
    ")\n",
    "\n",
    "scraper.get_nba_player_rebounding_data(\n",
    "    base_url = 'https://www.nba.com/stats/players/rebounding?DateFrom={d1}&DateTo={d2}&LastNGames=0&PerMode=Totals&SeasonType={type}', \n",
    "    today_date = today,\n",
    "    day_adjuster = day_adj,\n",
    "    season_type = 'Regular+Season',  # ['Regular+Season', 'PlayIn', 'Playoffs']\n",
    "    #lastNgames = 10,\n",
    "    database_table = 'statsplayerrebounding'\n",
    ")\n",
    "\n",
    "scraper.get_bref_pos_estimates(\n",
    "        base_url = 'https://www.basketball-reference.com/teams/{team}/{season}.html#pbp', \n",
    "        today_date = today,\n",
    "        season = 2025,\n",
    "        database_table = 'brefmisc'\n",
    ")\n",
    "\n",
    "if scraper.scrape_error_flag:\n",
    "    print(scraper.scrape_errors)"
   ]
  },
  {
   "cell_type": "code",
   "execution_count": 7,
   "id": "c12c1018",
   "metadata": {},
   "outputs": [
    {
     "name": "stdout",
     "output_type": "stream",
     "text": [
      "nba team shot zone scraped...\n"
     ]
    }
   ],
   "source": [
    "\n",
    "scraper.get_nba_team_shotzone_data(\n",
    "    base_url = 'https://www.nba.com/stats/teams/{sideOfBall}?DistanceRange=By+Zone&LastNGames={lastNgames}&SeasonType={type}&DateTo={endDate}', \n",
    "    sides = {'defensive':'opponent-shooting'},\n",
    "    season_type = 'Regular+Season',  # ['Regular+Season', 'PlayIn', 'Playoffs']\n",
    "    lastNgames = lastNgames,\n",
    "    database_table = 'statsteamshotzones',\n",
    "    endDate = today\n",
    ")\n"
   ]
  },
  {
   "cell_type": "code",
   "execution_count": null,
   "id": "e9bf58df",
   "metadata": {},
   "outputs": [],
   "source": [
    "#prop_scraper.tryMissingProps()\n",
    "# this didn't work as expected, \n",
    "#### added SOG to the nba scrape_errors\n",
    "#### added new key-value pair for the missing prop:  'missing_dates': ['sog', '2025-01-02', 0]"
   ]
  },
  {
   "cell_type": "code",
   "execution_count": null,
   "id": "369da388",
   "metadata": {},
   "outputs": [],
   "source": [
    "prop_scraper.scrape_errors"
   ]
  },
  {
   "cell_type": "code",
   "execution_count": 7,
   "id": "68eb0afd",
   "metadata": {},
   "outputs": [],
   "source": [
    "missing = prop_scraper.scrape_errors\n",
    "del missing['nfl']\n",
    "#prop_scraper.scrape_errors"
   ]
  },
  {
   "cell_type": "code",
   "execution_count": null,
   "id": "51fd7071",
   "metadata": {},
   "outputs": [],
   "source": [
    "# scrape missed props\n",
    "import random\n",
    "wait_secs = random.randint(1,5)\n",
    "\n",
    "for k, v in missing.items():\n",
    "\n",
    "    if len(v['missing_props']) > 0:\n",
    "        leagues_with_missing_props = [k]\n",
    "        missing_props = v['missing_props']\n",
    "        print('rescraping', k, 'for', missing_props)\n",
    "\n",
    "        prop_scraper_missing = ans.actNetScraper(\n",
    "            browser_path = '..\\\\..\\\\browser\\\\geckodriver.exe',\n",
    "            dates = dates,\n",
    "            leagues = leagues_with_missing_props,\n",
    "            database_export = database_export, \n",
    "            store_locally = store_locally,\n",
    "            config_path = '..\\\\..\\\\..\\\\..\\\\Notes-General\\\\config.txt',\n",
    "            second_run=True\n",
    "        )\n",
    "\n",
    "        prop_scraper_missing.scrape(\n",
    "            sleep_secs = wait_secs, \n",
    "            specific_props = missing_props,\n",
    "            leagues_override = None\n",
    "        )\n",
    "\n",
    "        prop_scraper_missing.processScrapes(\n",
    "            remove_dups = True,\n",
    "            specific_props = missing_props\n",
    "        )"
   ]
  },
  {
   "cell_type": "markdown",
   "id": "512dde7f",
   "metadata": {},
   "source": [
    "# scratch"
   ]
  }
 ],
 "metadata": {
  "kernelspec": {
   "display_name": "propfarm-_NXI0yZr",
   "language": "python",
   "name": "python3"
  },
  "language_info": {
   "codemirror_mode": {
    "name": "ipython",
    "version": 3
   },
   "file_extension": ".py",
   "mimetype": "text/x-python",
   "name": "python",
   "nbconvert_exporter": "python",
   "pygments_lexer": "ipython3",
   "version": "3.9.5"
  }
 },
 "nbformat": 4,
 "nbformat_minor": 5
}
