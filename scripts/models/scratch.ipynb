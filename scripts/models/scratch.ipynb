{
 "cells": [
  {
   "cell_type": "code",
   "execution_count": 4,
   "metadata": {},
   "outputs": [],
   "source": [
    "import pandas as pd\n",
    "import numpy as np\n",
    "#import nba_api as nba\n",
    "#from nba_api.stats.library.parameters import LeagueID  # helps with api hits\n",
    "#from nba_api.stats.endpoints import LeagueDashPlayerStats\n",
    "#from nba_api.stats.endpoints import ScoreboardV2\n",
    "from nba_api.stats.endpoints import PlayerDashboardByGeneralSplits\n",
    "from sqlalchemy import create_engine\n",
    "\n",
    "from datetime import datetime\n",
    "import time, json, requests\n",
    "import nbaPlayerStatModeling as nbaModel"
   ]
  },
  {
   "cell_type": "code",
   "execution_count": 5,
   "metadata": {},
   "outputs": [],
   "source": [
    "nba = nbaModel.playerStatModel(\n",
    "        day_offset = 0, \n",
    "        season = '2024-25', \n",
    "        perMode = 'PerGame'\n",
    ")"
   ]
  },
  {
   "cell_type": "code",
   "execution_count": 6,
   "metadata": {},
   "outputs": [
    {
     "name": "stdout",
     "output_type": "stream",
     "text": [
      "3  games today...\n"
     ]
    }
   ],
   "source": [
    "nba.get_teams_playing()\n"
   ]
  },
  {
   "cell_type": "code",
   "execution_count": 7,
   "metadata": {},
   "outputs": [],
   "source": [
    "nba.get_teams_pace(\n",
    "    base_url = 'https://stats.nba.com/stats/leaguedashteamstats?Conference=&DateFrom=&DateTo=&Division=&GameScope=&GameSegment=&Height=&ISTRound=&LastNGames=0&LeagueID=00&Location=&MeasureType=Advanced&Month=0&OpponentTeamID=0&Outcome=&PORound=0&PaceAdjust=N&PerMode=PerGame&Period=0&PlayerExperience=&PlayerPosition=&PlusMinus=N&Rank=N&Season={sid}&SeasonSegment=&SeasonType=Regular%20Season&ShotClockRange=&StarterBench=&TeamID=0&TwoWay=0&VsConference=&VsDivision='\n",
    ")"
   ]
  },
  {
   "cell_type": "code",
   "execution_count": 9,
   "metadata": {},
   "outputs": [
    {
     "data": {
      "text/html": [
       "<div>\n",
       "<style scoped>\n",
       "    .dataframe tbody tr th:only-of-type {\n",
       "        vertical-align: middle;\n",
       "    }\n",
       "\n",
       "    .dataframe tbody tr th {\n",
       "        vertical-align: top;\n",
       "    }\n",
       "\n",
       "    .dataframe thead th {\n",
       "        text-align: right;\n",
       "    }\n",
       "</style>\n",
       "<table border=\"1\" class=\"dataframe\">\n",
       "  <thead>\n",
       "    <tr style=\"text-align: right;\">\n",
       "      <th></th>\n",
       "      <th>GAME_ID</th>\n",
       "      <th>GAME_DATE_EST</th>\n",
       "      <th>GAME_STATUS_TEXT</th>\n",
       "      <th>TEAM_TYPE</th>\n",
       "      <th>TEAM_ID</th>\n",
       "      <th>oppTeamId</th>\n",
       "      <th>PACE</th>\n",
       "    </tr>\n",
       "  </thead>\n",
       "  <tbody>\n",
       "    <tr>\n",
       "      <th>0</th>\n",
       "      <td>0022400752</td>\n",
       "      <td>2025-02-09</td>\n",
       "      <td></td>\n",
       "      <td>Home</td>\n",
       "      <td>1610612765</td>\n",
       "      <td>1610612766</td>\n",
       "      <td>99.69</td>\n",
       "    </tr>\n",
       "    <tr>\n",
       "      <th>1</th>\n",
       "      <td>0022400752</td>\n",
       "      <td>2025-02-09</td>\n",
       "      <td></td>\n",
       "      <td>Away</td>\n",
       "      <td>1610612766</td>\n",
       "      <td>1610612765</td>\n",
       "      <td>98.27</td>\n",
       "    </tr>\n",
       "    <tr>\n",
       "      <th>2</th>\n",
       "      <td>0022400753</td>\n",
       "      <td>2025-02-09</td>\n",
       "      <td></td>\n",
       "      <td>Home</td>\n",
       "      <td>1610612745</td>\n",
       "      <td>1610612761</td>\n",
       "      <td>98.72</td>\n",
       "    </tr>\n",
       "    <tr>\n",
       "      <th>3</th>\n",
       "      <td>0022400753</td>\n",
       "      <td>2025-02-09</td>\n",
       "      <td></td>\n",
       "      <td>Away</td>\n",
       "      <td>1610612761</td>\n",
       "      <td>1610612745</td>\n",
       "      <td>99.99</td>\n",
       "    </tr>\n",
       "    <tr>\n",
       "      <th>4</th>\n",
       "      <td>0022400754</td>\n",
       "      <td>2025-02-09</td>\n",
       "      <td></td>\n",
       "      <td>Home</td>\n",
       "      <td>1610612749</td>\n",
       "      <td>1610612755</td>\n",
       "      <td>100.10</td>\n",
       "    </tr>\n",
       "    <tr>\n",
       "      <th>5</th>\n",
       "      <td>0022400754</td>\n",
       "      <td>2025-02-09</td>\n",
       "      <td></td>\n",
       "      <td>Away</td>\n",
       "      <td>1610612755</td>\n",
       "      <td>1610612749</td>\n",
       "      <td>97.29</td>\n",
       "    </tr>\n",
       "  </tbody>\n",
       "</table>\n",
       "</div>"
      ],
      "text/plain": [
       "      GAME_ID GAME_DATE_EST GAME_STATUS_TEXT TEAM_TYPE     TEAM_ID  \\\n",
       "0  0022400752    2025-02-09                       Home  1610612765   \n",
       "1  0022400752    2025-02-09                       Away  1610612766   \n",
       "2  0022400753    2025-02-09                       Home  1610612745   \n",
       "3  0022400753    2025-02-09                       Away  1610612761   \n",
       "4  0022400754    2025-02-09                       Home  1610612749   \n",
       "5  0022400754    2025-02-09                       Away  1610612755   \n",
       "\n",
       "    oppTeamId    PACE  \n",
       "0  1610612766   99.69  \n",
       "1  1610612765   98.27  \n",
       "2  1610612761   98.72  \n",
       "3  1610612745   99.99  \n",
       "4  1610612755  100.10  \n",
       "5  1610612749   97.29  "
      ]
     },
     "execution_count": 9,
     "metadata": {},
     "output_type": "execute_result"
    }
   ],
   "source": [
    "nba.df_games_long"
   ]
  },
  {
   "cell_type": "code",
   "execution_count": 10,
   "metadata": {},
   "outputs": [
    {
     "name": "stdout",
     "output_type": "stream",
     "text": [
      "99 players returned from 6 teams, out of a total 6\n"
     ]
    }
   ],
   "source": [
    "nba.get_players_playing(\n",
    "    url_base_nba_player_stat = 'https://stats.nba.com/stats/leaguedashplayerstats?College=&Conference=&Country=&DateFrom=&DateTo=&Division=&DraftPick=&DraftYear=&GameScope=&GameSegment=&Height=&LastNGames=0&LeagueID=00&Location=&MeasureType=Base&Month=0&OpponentTeamID=0&Outcome=&PORound=0&PaceAdjust=N&PerMode={per}&Period=0&PlayerExperience=&PlayerPosition=&PlusMinus=N&Rank=N&Season={sid}&SeasonSegment=&SeasonType=Regular+Season&ShotClockRange=&StarterBench=&TeamID={tid}&TwoWay=0&VsConference=&VsDivision=&Weight=',\n",
    "    minute_cutoff = 15.0\n",
    ")"
   ]
  },
  {
   "cell_type": "code",
   "execution_count": null,
   "metadata": {},
   "outputs": [],
   "source": [
    "nba.get_player_home_adv(\n",
    "    use_default=False\n",
    ")"
   ]
  },
  {
   "cell_type": "code",
   "execution_count": 19,
   "metadata": {},
   "outputs": [
    {
     "data": {
      "text/plain": [
       "(61, 47)"
      ]
     },
     "execution_count": 19,
     "metadata": {},
     "output_type": "execute_result"
    }
   ],
   "source": [
    "df = nba.df_players\n",
    "df = df[df['MIN'] >= 15.0]\n"
   ]
  },
  {
   "cell_type": "code",
   "execution_count": 22,
   "metadata": {},
   "outputs": [
    {
     "data": {
      "text/html": [
       "<div>\n",
       "<style scoped>\n",
       "    .dataframe tbody tr th:only-of-type {\n",
       "        vertical-align: middle;\n",
       "    }\n",
       "\n",
       "    .dataframe tbody tr th {\n",
       "        vertical-align: top;\n",
       "    }\n",
       "\n",
       "    .dataframe thead th {\n",
       "        text-align: right;\n",
       "    }\n",
       "</style>\n",
       "<table border=\"1\" class=\"dataframe\">\n",
       "  <thead>\n",
       "    <tr style=\"text-align: right;\">\n",
       "      <th></th>\n",
       "      <th>PLAYER_ID</th>\n",
       "      <th>PLAYER_NAME</th>\n",
       "      <th>TEAM_ID</th>\n",
       "      <th>TEAM_ABBREVIATION</th>\n",
       "      <th>MIN</th>\n",
       "      <th>FGM</th>\n",
       "      <th>FGA</th>\n",
       "      <th>FG_PCT</th>\n",
       "      <th>FG3M</th>\n",
       "      <th>FG3A</th>\n",
       "      <th>...</th>\n",
       "      <th>FTA_DIFF</th>\n",
       "      <th>OREB_DIFF</th>\n",
       "      <th>DREB_DIFF</th>\n",
       "      <th>REB_DIFF</th>\n",
       "      <th>AST_DIFF</th>\n",
       "      <th>TOV_DIFF</th>\n",
       "      <th>STL_DIFF</th>\n",
       "      <th>BLK_DIFF</th>\n",
       "      <th>BLKA_DIFF</th>\n",
       "      <th>PTS_DIFF</th>\n",
       "    </tr>\n",
       "  </thead>\n",
       "  <tbody>\n",
       "    <tr>\n",
       "      <th>1</th>\n",
       "      <td>1641709</td>\n",
       "      <td>Ausar Thompson</td>\n",
       "      <td>1610612765</td>\n",
       "      <td>DET</td>\n",
       "      <td>20.6</td>\n",
       "      <td>3.5</td>\n",
       "      <td>6.8</td>\n",
       "      <td>0.515</td>\n",
       "      <td>0.2</td>\n",
       "      <td>1.1</td>\n",
       "      <td>...</td>\n",
       "      <td>0.283883</td>\n",
       "      <td>-0.150769</td>\n",
       "      <td>0.223558</td>\n",
       "      <td>0.118410</td>\n",
       "      <td>0.429980</td>\n",
       "      <td>0.033445</td>\n",
       "      <td>0.258974</td>\n",
       "      <td>0.418803</td>\n",
       "      <td>0.346154</td>\n",
       "      <td>0.096660</td>\n",
       "    </tr>\n",
       "    <tr>\n",
       "      <th>3</th>\n",
       "      <td>1630595</td>\n",
       "      <td>Cade Cunningham</td>\n",
       "      <td>1610612765</td>\n",
       "      <td>DET</td>\n",
       "      <td>35.7</td>\n",
       "      <td>9.6</td>\n",
       "      <td>21.1</td>\n",
       "      <td>0.453</td>\n",
       "      <td>2.3</td>\n",
       "      <td>6.4</td>\n",
       "      <td>...</td>\n",
       "      <td>0.207677</td>\n",
       "      <td>-0.916667</td>\n",
       "      <td>0.207134</td>\n",
       "      <td>0.104303</td>\n",
       "      <td>0.075590</td>\n",
       "      <td>-0.185036</td>\n",
       "      <td>-0.140873</td>\n",
       "      <td>0.433712</td>\n",
       "      <td>0.487403</td>\n",
       "      <td>0.010909</td>\n",
       "    </tr>\n",
       "    <tr>\n",
       "      <th>6</th>\n",
       "      <td>1630191</td>\n",
       "      <td>Isaiah Stewart</td>\n",
       "      <td>1610612765</td>\n",
       "      <td>DET</td>\n",
       "      <td>20.2</td>\n",
       "      <td>2.3</td>\n",
       "      <td>4.3</td>\n",
       "      <td>0.529</td>\n",
       "      <td>0.2</td>\n",
       "      <td>0.7</td>\n",
       "      <td>...</td>\n",
       "      <td>0.304348</td>\n",
       "      <td>0.273292</td>\n",
       "      <td>0.002389</td>\n",
       "      <td>0.105590</td>\n",
       "      <td>0.102123</td>\n",
       "      <td>-0.333333</td>\n",
       "      <td>0.165217</td>\n",
       "      <td>-0.419130</td>\n",
       "      <td>-0.739130</td>\n",
       "      <td>0.319471</td>\n",
       "    </tr>\n",
       "    <tr>\n",
       "      <th>7</th>\n",
       "      <td>1631093</td>\n",
       "      <td>Jaden Ivey</td>\n",
       "      <td>1610612765</td>\n",
       "      <td>DET</td>\n",
       "      <td>29.9</td>\n",
       "      <td>6.3</td>\n",
       "      <td>13.8</td>\n",
       "      <td>0.460</td>\n",
       "      <td>2.1</td>\n",
       "      <td>5.1</td>\n",
       "      <td>...</td>\n",
       "      <td>0.088435</td>\n",
       "      <td>0.000000</td>\n",
       "      <td>0.111111</td>\n",
       "      <td>0.076923</td>\n",
       "      <td>0.224242</td>\n",
       "      <td>-0.078431</td>\n",
       "      <td>-0.200000</td>\n",
       "      <td>-0.166667</td>\n",
       "      <td>0.090909</td>\n",
       "      <td>-0.042071</td>\n",
       "    </tr>\n",
       "    <tr>\n",
       "      <th>8</th>\n",
       "      <td>1631105</td>\n",
       "      <td>Jalen Duren</td>\n",
       "      <td>1610612765</td>\n",
       "      <td>DET</td>\n",
       "      <td>25.6</td>\n",
       "      <td>4.5</td>\n",
       "      <td>6.4</td>\n",
       "      <td>0.698</td>\n",
       "      <td>0.0</td>\n",
       "      <td>0.0</td>\n",
       "      <td>...</td>\n",
       "      <td>-0.274182</td>\n",
       "      <td>0.328932</td>\n",
       "      <td>0.104390</td>\n",
       "      <td>0.191011</td>\n",
       "      <td>0.163871</td>\n",
       "      <td>-0.045333</td>\n",
       "      <td>-0.234286</td>\n",
       "      <td>0.073103</td>\n",
       "      <td>0.253333</td>\n",
       "      <td>0.188211</td>\n",
       "    </tr>\n",
       "  </tbody>\n",
       "</table>\n",
       "<p>5 rows × 47 columns</p>\n",
       "</div>"
      ],
      "text/plain": [
       "   PLAYER_ID      PLAYER_NAME     TEAM_ID TEAM_ABBREVIATION   MIN  FGM   FGA  \\\n",
       "1    1641709   Ausar Thompson  1610612765               DET  20.6  3.5   6.8   \n",
       "3    1630595  Cade Cunningham  1610612765               DET  35.7  9.6  21.1   \n",
       "6    1630191   Isaiah Stewart  1610612765               DET  20.2  2.3   4.3   \n",
       "7    1631093       Jaden Ivey  1610612765               DET  29.9  6.3  13.8   \n",
       "8    1631105      Jalen Duren  1610612765               DET  25.6  4.5   6.4   \n",
       "\n",
       "   FG_PCT  FG3M  FG3A  ...  FTA_DIFF  OREB_DIFF  DREB_DIFF  REB_DIFF  \\\n",
       "1   0.515   0.2   1.1  ...  0.283883  -0.150769   0.223558  0.118410   \n",
       "3   0.453   2.3   6.4  ...  0.207677  -0.916667   0.207134  0.104303   \n",
       "6   0.529   0.2   0.7  ...  0.304348   0.273292   0.002389  0.105590   \n",
       "7   0.460   2.1   5.1  ...  0.088435   0.000000   0.111111  0.076923   \n",
       "8   0.698   0.0   0.0  ... -0.274182   0.328932   0.104390  0.191011   \n",
       "\n",
       "   AST_DIFF  TOV_DIFF  STL_DIFF  BLK_DIFF  BLKA_DIFF  PTS_DIFF  \n",
       "1  0.429980  0.033445  0.258974  0.418803   0.346154  0.096660  \n",
       "3  0.075590 -0.185036 -0.140873  0.433712   0.487403  0.010909  \n",
       "6  0.102123 -0.333333  0.165217 -0.419130  -0.739130  0.319471  \n",
       "7  0.224242 -0.078431 -0.200000 -0.166667   0.090909 -0.042071  \n",
       "8  0.163871 -0.045333 -0.234286  0.073103   0.253333  0.188211  \n",
       "\n",
       "[5 rows x 47 columns]"
      ]
     },
     "execution_count": 22,
     "metadata": {},
     "output_type": "execute_result"
    }
   ],
   "source": [
    "df.head()"
   ]
  },
  {
   "cell_type": "code",
   "execution_count": 31,
   "metadata": {},
   "outputs": [],
   "source": [
    "conn_str = nbaModel.connect_to_database()"
   ]
  },
  {
   "cell_type": "code",
   "execution_count": null,
   "metadata": {},
   "outputs": [],
   "source": [
    "# Define query with named placeholders\n",
    "query = \"SELECT * FROM my_table WHERE column_name = :value\"\n",
    "\n",
    "# Define parameters as a dictionary\n",
    "params = {'value': 'some_value'}\n",
    "\n",
    "# Execute query with parameters\n",
    "df = pd.read_sql(query, engine, params=params)"
   ]
  },
  {
   "cell_type": "code",
   "execution_count": null,
   "metadata": {},
   "outputs": [
    {
     "data": {
      "text/plain": [
       "'2025-02-09'"
      ]
     },
     "execution_count": 37,
     "metadata": {},
     "output_type": "execute_result"
    }
   ],
   "source": []
  },
  {
   "cell_type": "code",
   "execution_count": null,
   "metadata": {},
   "outputs": [],
   "source": [
    "query = \"\"\"\n",
    "    SELECT p.nbaId PLAYER_ID, p.player, o.prop, o.line, o.oOdds, o.uOdds  \n",
    "    FROM odds o\n",
    "    JOIN players p ON o.playerId = p.actnetId\n",
    "    WHERE date = :game_date ;\n",
    "\"\"\" #\n",
    "props = pd.read_sql(\n",
    "    sql = query, \n",
    "    con = conn_str,\n",
    "    params = {'game_date':datetime.today().strftime('%Y-%m-%d')}\n",
    ")\n"
   ]
  },
  {
   "cell_type": "code",
   "execution_count": 41,
   "metadata": {},
   "outputs": [
    {
     "ename": "NameError",
     "evalue": "name 'engine' is not defined",
     "output_type": "error",
     "traceback": [
      "\u001b[1;31m---------------------------------------------------------------------------\u001b[0m",
      "\u001b[1;31mNameError\u001b[0m                                 Traceback (most recent call last)",
      "Cell \u001b[1;32mIn[41], line 11\u001b[0m\n\u001b[0;32m      1\u001b[0m query \u001b[38;5;241m=\u001b[39m \u001b[38;5;124m\"\"\"\u001b[39m\n\u001b[0;32m      2\u001b[0m \u001b[38;5;124m    SELECT p.nbaId PLAYER_ID, p.player, o.prop, o.line, o.oOdds, o.uOdds  \u001b[39m\n\u001b[0;32m      3\u001b[0m \u001b[38;5;124m    FROM odds o\u001b[39m\n\u001b[0;32m      4\u001b[0m \u001b[38;5;124m    JOIN players p ON o.playerId = p.actnetId\u001b[39m\n\u001b[0;32m      5\u001b[0m \u001b[38;5;124m    WHERE DATE(o.date) = \u001b[39m\u001b[38;5;132;01m%s\u001b[39;00m\u001b[38;5;124m;\u001b[39m\n\u001b[0;32m      6\u001b[0m \u001b[38;5;124m\"\"\"\u001b[39m\n\u001b[0;32m      8\u001b[0m \u001b[38;5;66;03m# Run query with parameter\u001b[39;00m\n\u001b[0;32m      9\u001b[0m props \u001b[38;5;241m=\u001b[39m pd\u001b[38;5;241m.\u001b[39mread_sql(\n\u001b[0;32m     10\u001b[0m     sql\u001b[38;5;241m=\u001b[39mquery, \n\u001b[1;32m---> 11\u001b[0m     con\u001b[38;5;241m=\u001b[39m\u001b[43mengine\u001b[49m,  \n\u001b[0;32m     12\u001b[0m     params\u001b[38;5;241m=\u001b[39m(datetime\u001b[38;5;241m.\u001b[39mtoday()\u001b[38;5;241m.\u001b[39mstrftime(\u001b[38;5;124m'\u001b[39m\u001b[38;5;124m%\u001b[39m\u001b[38;5;124mY-\u001b[39m\u001b[38;5;124m%\u001b[39m\u001b[38;5;124mm-\u001b[39m\u001b[38;5;132;01m%d\u001b[39;00m\u001b[38;5;124m'\u001b[39m),)  \u001b[38;5;66;03m# Ensure tuple format\u001b[39;00m\n\u001b[0;32m     13\u001b[0m )\n",
      "\u001b[1;31mNameError\u001b[0m: name 'engine' is not defined"
     ]
    }
   ],
   "source": [
    "# Create SQLAlchemy engine\n",
    "engine = create_engine(conn_str)\n",
    "\n",
    "# Query with positional placeholder\n",
    "query = \"\"\"\n",
    "    SELECT p.nbaId PLAYER_ID, p.player, o.prop, o.line, o.oOdds, o.uOdds  \n",
    "    FROM odds o\n",
    "    JOIN players p ON o.playerId = p.actnetId\n",
    "    WHERE DATE(o.date) = %s;\n",
    "\"\"\"\n",
    "\n",
    "# Use context manager to handle connection lifecycle\n",
    "with engine.connect() as connection:\n",
    "    props = pd.read_sql(\n",
    "        sql=query, \n",
    "        con=connection,  \n",
    "        params=(datetime.today().strftime('%Y-%m-%d'),)  # Ensure tuple format\n",
    "    )\n"
   ]
  },
  {
   "cell_type": "code",
   "execution_count": null,
   "metadata": {},
   "outputs": [],
   "source": []
  }
 ],
 "metadata": {
  "kernelspec": {
   "display_name": "propfarm-_NXI0yZr",
   "language": "python",
   "name": "python3"
  },
  "language_info": {
   "codemirror_mode": {
    "name": "ipython",
    "version": 3
   },
   "file_extension": ".py",
   "mimetype": "text/x-python",
   "name": "python",
   "nbconvert_exporter": "python",
   "pygments_lexer": "ipython3",
   "version": "3.9.5"
  }
 },
 "nbformat": 4,
 "nbformat_minor": 2
}
