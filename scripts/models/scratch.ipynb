{
 "cells": [
  {
   "cell_type": "code",
   "execution_count": 1,
   "metadata": {},
   "outputs": [],
   "source": [
    "import nbaPlayerStatModeling as nbaModel"
   ]
  },
  {
   "cell_type": "code",
   "execution_count": null,
   "metadata": {},
   "outputs": [],
   "source": [
    "nba = nbaModel.playerStatModel(\n",
    "        day_offset = 0, \n",
    "        season = '2024-25', \n",
    "        perMode = 'PerGame',\n",
    "        num_simulations = 200000\n",
    ")"
   ]
  },
  {
   "cell_type": "code",
   "execution_count": 3,
   "metadata": {},
   "outputs": [
    {
     "name": "stdout",
     "output_type": "stream",
     "text": [
      "4  games today...\n",
      "138 players returned from 8 teams, out of a total 8\n",
      "635 prop bets for 66 players...\n"
     ]
    }
   ],
   "source": [
    "nba.get_teams_playing()\n",
    "nba.get_teams_data(\n",
    "    base_url = 'https://stats.nba.com/stats/leaguedashteamstats?Conference=&DateFrom=&DateTo=&Division=&GameScope=&GameSegment=&Height=&ISTRound=&LastNGames=0&LeagueID=00&Location=&MeasureType={stattype}&Month=0&OpponentTeamID=0&Outcome=&PORound=0&PaceAdjust=N&PerMode=PerGame&Period=0&PlayerExperience=&PlayerPosition=&PlusMinus=N&Rank=N&Season={sid}&SeasonSegment=&SeasonType=Regular%20Season&ShotClockRange=&StarterBench=&TeamID=0&TwoWay=0&VsConference=&VsDivision='\n",
    ")\n",
    "nba.get_players_playing(\n",
    "    url_base_nba_player_stat = 'https://stats.nba.com/stats/leaguedashplayerstats?College=&Conference=&Country=&DateFrom=&DateTo=&Division=&DraftPick=&DraftYear=&GameScope=&GameSegment=&Height=&LastNGames=0&LeagueID=00&Location=&MeasureType=Base&Month=0&OpponentTeamID=0&Outcome=&PORound=0&PaceAdjust=N&PerMode={per}&Period=0&PlayerExperience=&PlayerPosition=&PlusMinus=N&Rank=N&Season={sid}&SeasonSegment=&SeasonType=Regular+Season&ShotClockRange=&StarterBench=&TeamID={tid}&TwoWay=0&VsConference=&VsDivision=&Weight=',\n",
    "    minute_cutoff = 0\n",
    ")\n",
    "nba.get_props()"
   ]
  },
  {
   "cell_type": "code",
   "execution_count": 7,
   "metadata": {},
   "outputs": [
    {
     "name": "stdout",
     "output_type": "stream",
     "text": [
      "1 / 5 player splits..\n",
      "2 / 5 player splits..\n",
      "3 / 5 player splits..\n",
      "4 / 5 player splits..\n",
      "5 / 5 player splits..\n"
     ]
    }
   ],
   "source": [
    "#nba.df_players = nba.df_players.iloc[[1,10,19,25,30], :]\n",
    "nba.get_player_home_adv(\n",
    "    use_default=False\n",
    ")"
   ]
  },
  {
   "cell_type": "code",
   "execution_count": 64,
   "metadata": {},
   "outputs": [],
   "source": [
    "#df_copy = nba.df_players.copy()\n",
    "nba.df_players = df_copy.copy()"
   ]
  },
  {
   "cell_type": "code",
   "execution_count": null,
   "metadata": {},
   "outputs": [],
   "source": [
    "nba.model_expected_minutes()\n",
    "nba.calculate_model_inputs()\n",
    "nba.df_players = nba.df_players.fillna(0)\n",
    "#nba.num_simulations = 250000\n",
    "nba.model_expected_stats_poisson()"
   ]
  },
  {
   "cell_type": "code",
   "execution_count": 66,
   "metadata": {},
   "outputs": [],
   "source": [
    "nba.model_expected_pts()"
   ]
  },
  {
   "cell_type": "code",
   "execution_count": 67,
   "metadata": {},
   "outputs": [
    {
     "data": {
      "text/html": [
       "<div>\n",
       "<style scoped>\n",
       "    .dataframe tbody tr th:only-of-type {\n",
       "        vertical-align: middle;\n",
       "    }\n",
       "\n",
       "    .dataframe tbody tr th {\n",
       "        vertical-align: top;\n",
       "    }\n",
       "\n",
       "    .dataframe thead th {\n",
       "        text-align: right;\n",
       "    }\n",
       "</style>\n",
       "<table border=\"1\" class=\"dataframe\">\n",
       "  <thead>\n",
       "    <tr style=\"text-align: right;\">\n",
       "      <th></th>\n",
       "      <th>PLAYER_NAME</th>\n",
       "      <th>DREB_HOMEadj</th>\n",
       "    </tr>\n",
       "  </thead>\n",
       "  <tbody>\n",
       "    <tr>\n",
       "      <th>0</th>\n",
       "      <td>Coby White</td>\n",
       "      <td>0.902778</td>\n",
       "    </tr>\n",
       "    <tr>\n",
       "      <th>1</th>\n",
       "      <td>Josh Hart</td>\n",
       "      <td>1.037853</td>\n",
       "    </tr>\n",
       "    <tr>\n",
       "      <th>2</th>\n",
       "      <td>Bennedict Mathurin</td>\n",
       "      <td>1.200000</td>\n",
       "    </tr>\n",
       "    <tr>\n",
       "      <th>3</th>\n",
       "      <td>Tyrese Haliburton</td>\n",
       "      <td>1.058537</td>\n",
       "    </tr>\n",
       "    <tr>\n",
       "      <th>4</th>\n",
       "      <td>Quentin Grimes</td>\n",
       "      <td>1.051282</td>\n",
       "    </tr>\n",
       "  </tbody>\n",
       "</table>\n",
       "</div>"
      ],
      "text/plain": [
       "          PLAYER_NAME  DREB_HOMEadj\n",
       "0          Coby White      0.902778\n",
       "1           Josh Hart      1.037853\n",
       "2  Bennedict Mathurin      1.200000\n",
       "3   Tyrese Haliburton      1.058537\n",
       "4      Quentin Grimes      1.051282"
      ]
     },
     "execution_count": 67,
     "metadata": {},
     "output_type": "execute_result"
    }
   ],
   "source": [
    "nba.df_players[['PLAYER_NAME', 'DREB_HOMEadj']]"
   ]
  },
  {
   "cell_type": "code",
   "execution_count": 68,
   "metadata": {},
   "outputs": [
    {
     "data": {
      "text/html": [
       "<div>\n",
       "<style scoped>\n",
       "    .dataframe tbody tr th:only-of-type {\n",
       "        vertical-align: middle;\n",
       "    }\n",
       "\n",
       "    .dataframe tbody tr th {\n",
       "        vertical-align: top;\n",
       "    }\n",
       "\n",
       "    .dataframe thead th {\n",
       "        text-align: right;\n",
       "    }\n",
       "</style>\n",
       "<table border=\"1\" class=\"dataframe\">\n",
       "  <thead>\n",
       "    <tr style=\"text-align: right;\">\n",
       "      <th></th>\n",
       "      <th>PLAYER_NAME</th>\n",
       "      <th>REB</th>\n",
       "      <th>expReb</th>\n",
       "      <th>reb_line</th>\n",
       "      <th>reb_oOdds</th>\n",
       "      <th>REBoOdds</th>\n",
       "      <th>REBoOdds_deci</th>\n",
       "      <th>REBoProb</th>\n",
       "    </tr>\n",
       "  </thead>\n",
       "  <tbody>\n",
       "    <tr>\n",
       "      <th>0</th>\n",
       "      <td>Coby White</td>\n",
       "      <td>3.3</td>\n",
       "      <td>3.047735</td>\n",
       "      <td>3.5</td>\n",
       "      <td>120.0</td>\n",
       "      <td>174</td>\n",
       "      <td>2.748</td>\n",
       "      <td>0.363848</td>\n",
       "    </tr>\n",
       "    <tr>\n",
       "      <th>1</th>\n",
       "      <td>Josh Hart</td>\n",
       "      <td>9.6</td>\n",
       "      <td>10.512123</td>\n",
       "      <td>9.5</td>\n",
       "      <td>-122.0</td>\n",
       "      <td>-152</td>\n",
       "      <td>1.656</td>\n",
       "      <td>0.603792</td>\n",
       "    </tr>\n",
       "    <tr>\n",
       "      <th>2</th>\n",
       "      <td>Bennedict Mathurin</td>\n",
       "      <td>5.7</td>\n",
       "      <td>6.836473</td>\n",
       "      <td>4.5</td>\n",
       "      <td>114.0</td>\n",
       "      <td>-430</td>\n",
       "      <td>1.232</td>\n",
       "      <td>0.811564</td>\n",
       "    </tr>\n",
       "    <tr>\n",
       "      <th>3</th>\n",
       "      <td>Tyrese Haliburton</td>\n",
       "      <td>3.6</td>\n",
       "      <td>3.871139</td>\n",
       "      <td>3.5</td>\n",
       "      <td>110.0</td>\n",
       "      <td>-117</td>\n",
       "      <td>1.850</td>\n",
       "      <td>0.540560</td>\n",
       "    </tr>\n",
       "    <tr>\n",
       "      <th>4</th>\n",
       "      <td>Quentin Grimes</td>\n",
       "      <td>5.3</td>\n",
       "      <td>5.899639</td>\n",
       "      <td>3.5</td>\n",
       "      <td>-106.0</td>\n",
       "      <td>-526</td>\n",
       "      <td>1.190</td>\n",
       "      <td>0.840296</td>\n",
       "    </tr>\n",
       "  </tbody>\n",
       "</table>\n",
       "</div>"
      ],
      "text/plain": [
       "          PLAYER_NAME  REB     expReb  reb_line  reb_oOdds  REBoOdds  \\\n",
       "0          Coby White  3.3   3.047735       3.5      120.0       174   \n",
       "1           Josh Hart  9.6  10.512123       9.5     -122.0      -152   \n",
       "2  Bennedict Mathurin  5.7   6.836473       4.5      114.0      -430   \n",
       "3   Tyrese Haliburton  3.6   3.871139       3.5      110.0      -117   \n",
       "4      Quentin Grimes  5.3   5.899639       3.5     -106.0      -526   \n",
       "\n",
       "   REBoOdds_deci  REBoProb  \n",
       "0          2.748  0.363848  \n",
       "1          1.656  0.603792  \n",
       "2          1.232  0.811564  \n",
       "3          1.850  0.540560  \n",
       "4          1.190  0.840296  "
      ]
     },
     "execution_count": 68,
     "metadata": {},
     "output_type": "execute_result"
    }
   ],
   "source": [
    "nba.df_players[['PLAYER_NAME', 'REB', 'expReb', 'reb_line', 'reb_oOdds', 'REBoOdds','REBoOdds_deci','REBoProb']]"
   ]
  },
  {
   "cell_type": "code",
   "execution_count": 69,
   "metadata": {},
   "outputs": [
    {
     "data": {
      "text/html": [
       "<div>\n",
       "<style scoped>\n",
       "    .dataframe tbody tr th:only-of-type {\n",
       "        vertical-align: middle;\n",
       "    }\n",
       "\n",
       "    .dataframe tbody tr th {\n",
       "        vertical-align: top;\n",
       "    }\n",
       "\n",
       "    .dataframe thead th {\n",
       "        text-align: right;\n",
       "    }\n",
       "</style>\n",
       "<table border=\"1\" class=\"dataframe\">\n",
       "  <thead>\n",
       "    <tr style=\"text-align: right;\">\n",
       "      <th></th>\n",
       "      <th>PLAYER_NAME</th>\n",
       "      <th>AST</th>\n",
       "      <th>expAst</th>\n",
       "      <th>ast_line</th>\n",
       "      <th>ast_oOdds</th>\n",
       "      <th>ASToOdds</th>\n",
       "      <th>ASToOdds_deci</th>\n",
       "      <th>ASToProb</th>\n",
       "    </tr>\n",
       "  </thead>\n",
       "  <tbody>\n",
       "    <tr>\n",
       "      <th>0</th>\n",
       "      <td>Coby White</td>\n",
       "      <td>4.6</td>\n",
       "      <td>5.122792</td>\n",
       "      <td>4.5</td>\n",
       "      <td>112.0</td>\n",
       "      <td>-138</td>\n",
       "      <td>1.723</td>\n",
       "      <td>0.580408</td>\n",
       "    </tr>\n",
       "    <tr>\n",
       "      <th>1</th>\n",
       "      <td>Josh Hart</td>\n",
       "      <td>5.7</td>\n",
       "      <td>4.989067</td>\n",
       "      <td>5.5</td>\n",
       "      <td>-154.0</td>\n",
       "      <td>160</td>\n",
       "      <td>2.601</td>\n",
       "      <td>0.384492</td>\n",
       "    </tr>\n",
       "    <tr>\n",
       "      <th>2</th>\n",
       "      <td>Bennedict Mathurin</td>\n",
       "      <td>1.8</td>\n",
       "      <td>2.067874</td>\n",
       "      <td>1.5</td>\n",
       "      <td>-115.0</td>\n",
       "      <td>-158</td>\n",
       "      <td>1.630</td>\n",
       "      <td>0.613396</td>\n",
       "    </tr>\n",
       "    <tr>\n",
       "      <th>3</th>\n",
       "      <td>Tyrese Haliburton</td>\n",
       "      <td>8.5</td>\n",
       "      <td>8.853996</td>\n",
       "      <td>8.5</td>\n",
       "      <td>100.0</td>\n",
       "      <td>-110</td>\n",
       "      <td>1.901</td>\n",
       "      <td>0.525908</td>\n",
       "    </tr>\n",
       "    <tr>\n",
       "      <th>4</th>\n",
       "      <td>Quentin Grimes</td>\n",
       "      <td>3.7</td>\n",
       "      <td>4.020083</td>\n",
       "      <td>2.5</td>\n",
       "      <td>105.0</td>\n",
       "      <td>-325</td>\n",
       "      <td>1.307</td>\n",
       "      <td>0.765004</td>\n",
       "    </tr>\n",
       "  </tbody>\n",
       "</table>\n",
       "</div>"
      ],
      "text/plain": [
       "          PLAYER_NAME  AST    expAst  ast_line  ast_oOdds  ASToOdds  \\\n",
       "0          Coby White  4.6  5.122792       4.5      112.0      -138   \n",
       "1           Josh Hart  5.7  4.989067       5.5     -154.0       160   \n",
       "2  Bennedict Mathurin  1.8  2.067874       1.5     -115.0      -158   \n",
       "3   Tyrese Haliburton  8.5  8.853996       8.5      100.0      -110   \n",
       "4      Quentin Grimes  3.7  4.020083       2.5      105.0      -325   \n",
       "\n",
       "   ASToOdds_deci  ASToProb  \n",
       "0          1.723  0.580408  \n",
       "1          2.601  0.384492  \n",
       "2          1.630  0.613396  \n",
       "3          1.901  0.525908  \n",
       "4          1.307  0.765004  "
      ]
     },
     "execution_count": 69,
     "metadata": {},
     "output_type": "execute_result"
    }
   ],
   "source": [
    "nba.df_players[['PLAYER_NAME', 'AST', 'expAst', 'ast_line', 'ast_oOdds', 'ASToOdds','ASToOdds_deci','ASToProb']]"
   ]
  },
  {
   "cell_type": "code",
   "execution_count": 70,
   "metadata": {},
   "outputs": [
    {
     "data": {
      "text/html": [
       "<div>\n",
       "<style scoped>\n",
       "    .dataframe tbody tr th:only-of-type {\n",
       "        vertical-align: middle;\n",
       "    }\n",
       "\n",
       "    .dataframe tbody tr th {\n",
       "        vertical-align: top;\n",
       "    }\n",
       "\n",
       "    .dataframe thead th {\n",
       "        text-align: right;\n",
       "    }\n",
       "</style>\n",
       "<table border=\"1\" class=\"dataframe\">\n",
       "  <thead>\n",
       "    <tr style=\"text-align: right;\">\n",
       "      <th></th>\n",
       "      <th>PLAYER_NAME</th>\n",
       "      <th>PTS</th>\n",
       "      <th>expPts</th>\n",
       "      <th>pts_line</th>\n",
       "      <th>pts_oOdds</th>\n",
       "      <th>PTSoOdds</th>\n",
       "      <th>PTSoOdds_deci</th>\n",
       "      <th>PTSoProb</th>\n",
       "    </tr>\n",
       "  </thead>\n",
       "  <tbody>\n",
       "    <tr>\n",
       "      <th>0</th>\n",
       "      <td>Coby White</td>\n",
       "      <td>18.7</td>\n",
       "      <td>18.686267</td>\n",
       "      <td>20.5</td>\n",
       "      <td>-110.0</td>\n",
       "      <td>170</td>\n",
       "      <td>2.707</td>\n",
       "      <td>0.369348</td>\n",
       "    </tr>\n",
       "    <tr>\n",
       "      <th>1</th>\n",
       "      <td>Josh Hart</td>\n",
       "      <td>14.4</td>\n",
       "      <td>15.686097</td>\n",
       "      <td>15.5</td>\n",
       "      <td>-110.0</td>\n",
       "      <td>104</td>\n",
       "      <td>2.050</td>\n",
       "      <td>0.487848</td>\n",
       "    </tr>\n",
       "    <tr>\n",
       "      <th>2</th>\n",
       "      <td>Bennedict Mathurin</td>\n",
       "      <td>16.3</td>\n",
       "      <td>17.556285</td>\n",
       "      <td>14.5</td>\n",
       "      <td>-105.0</td>\n",
       "      <td>-207</td>\n",
       "      <td>1.483</td>\n",
       "      <td>0.674284</td>\n",
       "    </tr>\n",
       "    <tr>\n",
       "      <th>3</th>\n",
       "      <td>Tyrese Haliburton</td>\n",
       "      <td>17.8</td>\n",
       "      <td>21.237693</td>\n",
       "      <td>18.5</td>\n",
       "      <td>-115.0</td>\n",
       "      <td>-171</td>\n",
       "      <td>1.585</td>\n",
       "      <td>0.631112</td>\n",
       "    </tr>\n",
       "    <tr>\n",
       "      <th>4</th>\n",
       "      <td>Quentin Grimes</td>\n",
       "      <td>12.3</td>\n",
       "      <td>10.841883</td>\n",
       "      <td>8.5</td>\n",
       "      <td>-130.0</td>\n",
       "      <td>-189</td>\n",
       "      <td>1.527</td>\n",
       "      <td>0.654736</td>\n",
       "    </tr>\n",
       "  </tbody>\n",
       "</table>\n",
       "</div>"
      ],
      "text/plain": [
       "          PLAYER_NAME   PTS     expPts  pts_line  pts_oOdds  PTSoOdds  \\\n",
       "0          Coby White  18.7  18.686267      20.5     -110.0       170   \n",
       "1           Josh Hart  14.4  15.686097      15.5     -110.0       104   \n",
       "2  Bennedict Mathurin  16.3  17.556285      14.5     -105.0      -207   \n",
       "3   Tyrese Haliburton  17.8  21.237693      18.5     -115.0      -171   \n",
       "4      Quentin Grimes  12.3  10.841883       8.5     -130.0      -189   \n",
       "\n",
       "   PTSoOdds_deci  PTSoProb  \n",
       "0          2.707  0.369348  \n",
       "1          2.050  0.487848  \n",
       "2          1.483  0.674284  \n",
       "3          1.585  0.631112  \n",
       "4          1.527  0.654736  "
      ]
     },
     "execution_count": 70,
     "metadata": {},
     "output_type": "execute_result"
    }
   ],
   "source": [
    "nba.df_players[['PLAYER_NAME', 'PTS', 'expPts', 'pts_line', 'pts_oOdds', 'PTSoOdds','PTSoOdds_deci','PTSoProb']]"
   ]
  },
  {
   "cell_type": "code",
   "execution_count": 16,
   "metadata": {},
   "outputs": [
    {
     "data": {
      "text/html": [
       "<div>\n",
       "<style scoped>\n",
       "    .dataframe tbody tr th:only-of-type {\n",
       "        vertical-align: middle;\n",
       "    }\n",
       "\n",
       "    .dataframe tbody tr th {\n",
       "        vertical-align: top;\n",
       "    }\n",
       "\n",
       "    .dataframe thead th {\n",
       "        text-align: right;\n",
       "    }\n",
       "</style>\n",
       "<table border=\"1\" class=\"dataframe\">\n",
       "  <thead>\n",
       "    <tr style=\"text-align: right;\">\n",
       "      <th></th>\n",
       "      <th>PLAYER_NAME</th>\n",
       "      <th>PTS</th>\n",
       "      <th>expPts</th>\n",
       "      <th>pts_line</th>\n",
       "      <th>pts_oOdds</th>\n",
       "      <th>PTSoOdds</th>\n",
       "      <th>PTSoOdds_deci</th>\n",
       "      <th>PTSoProb</th>\n",
       "    </tr>\n",
       "  </thead>\n",
       "  <tbody>\n",
       "    <tr>\n",
       "      <th>0</th>\n",
       "      <td>Coby White</td>\n",
       "      <td>18.7</td>\n",
       "      <td>18.686267</td>\n",
       "      <td>20.5</td>\n",
       "      <td>-110.0</td>\n",
       "      <td>144.678248</td>\n",
       "      <td>2.447</td>\n",
       "      <td>0.4087</td>\n",
       "    </tr>\n",
       "    <tr>\n",
       "      <th>1</th>\n",
       "      <td>Josh Hart</td>\n",
       "      <td>14.4</td>\n",
       "      <td>15.686097</td>\n",
       "      <td>15.5</td>\n",
       "      <td>-110.0</td>\n",
       "      <td>155.558395</td>\n",
       "      <td>2.556</td>\n",
       "      <td>0.3913</td>\n",
       "    </tr>\n",
       "    <tr>\n",
       "      <th>2</th>\n",
       "      <td>Bennedict Mathurin</td>\n",
       "      <td>16.3</td>\n",
       "      <td>17.556285</td>\n",
       "      <td>14.5</td>\n",
       "      <td>-105.0</td>\n",
       "      <td>-151.193168</td>\n",
       "      <td>1.661</td>\n",
       "      <td>0.6019</td>\n",
       "    </tr>\n",
       "    <tr>\n",
       "      <th>3</th>\n",
       "      <td>Tyrese Haliburton</td>\n",
       "      <td>17.8</td>\n",
       "      <td>21.237693</td>\n",
       "      <td>18.5</td>\n",
       "      <td>-115.0</td>\n",
       "      <td>136.798484</td>\n",
       "      <td>2.368</td>\n",
       "      <td>0.4223</td>\n",
       "    </tr>\n",
       "    <tr>\n",
       "      <th>4</th>\n",
       "      <td>Quentin Grimes</td>\n",
       "      <td>12.3</td>\n",
       "      <td>10.841883</td>\n",
       "      <td>8.5</td>\n",
       "      <td>-130.0</td>\n",
       "      <td>-326.803244</td>\n",
       "      <td>1.306</td>\n",
       "      <td>0.7657</td>\n",
       "    </tr>\n",
       "  </tbody>\n",
       "</table>\n",
       "</div>"
      ],
      "text/plain": [
       "          PLAYER_NAME   PTS     expPts  pts_line  pts_oOdds    PTSoOdds  \\\n",
       "0          Coby White  18.7  18.686267      20.5     -110.0  144.678248   \n",
       "1           Josh Hart  14.4  15.686097      15.5     -110.0  155.558395   \n",
       "2  Bennedict Mathurin  16.3  17.556285      14.5     -105.0 -151.193168   \n",
       "3   Tyrese Haliburton  17.8  21.237693      18.5     -115.0  136.798484   \n",
       "4      Quentin Grimes  12.3  10.841883       8.5     -130.0 -326.803244   \n",
       "\n",
       "   PTSoOdds_deci  PTSoProb  \n",
       "0          2.447    0.4087  \n",
       "1          2.556    0.3913  \n",
       "2          1.661    0.6019  \n",
       "3          2.368    0.4223  \n",
       "4          1.306    0.7657  "
      ]
     },
     "execution_count": 16,
     "metadata": {},
     "output_type": "execute_result"
    }
   ],
   "source": [
    "nba.df_players[['PLAYER_NAME', 'PTS', 'expPts', 'pts_line', 'pts_oOdds', 'PTSoOdds','PTSoOdds_deci','PTSoProb']]"
   ]
  },
  {
   "cell_type": "code",
   "execution_count": 121,
   "metadata": {},
   "outputs": [],
   "source": [
    "nba.df_players.to_excel('test.xlsx')"
   ]
  },
  {
   "cell_type": "code",
   "execution_count": 49,
   "metadata": {},
   "outputs": [
    {
     "data": {
      "text/plain": [
       "array([5.12279194, 4.98906653, 2.06787421, 8.85399571, 4.02008345])"
      ]
     },
     "execution_count": 49,
     "metadata": {},
     "output_type": "execute_result"
    }
   ],
   "source": [
    "nba.df_players['expAst'].values"
   ]
  },
  {
   "cell_type": "code",
   "execution_count": 46,
   "metadata": {},
   "outputs": [
    {
     "data": {
      "text/plain": [
       "array([[ 1,  7,  8, ...,  6,  7,  4],\n",
       "       [ 9,  4,  2, ...,  6,  6,  3],\n",
       "       [ 3,  1,  2, ...,  1,  4,  3],\n",
       "       [14,  8,  6, ..., 12,  5,  9],\n",
       "       [ 5,  5,  5, ...,  6,  7,  5]])"
      ]
     },
     "execution_count": 46,
     "metadata": {},
     "output_type": "execute_result"
    }
   ],
   "source": [
    "np.random.poisson(nba.df_players['expAst'].values[:, None], (len(nba.df_players), 10000))"
   ]
  },
  {
   "cell_type": "code",
   "execution_count": 50,
   "metadata": {},
   "outputs": [
    {
     "data": {
      "text/plain": [
       "(5, 10000)"
      ]
     },
     "execution_count": 50,
     "metadata": {},
     "output_type": "execute_result"
    }
   ],
   "source": [
    "(len(nba.df_players), 10000)"
   ]
  },
  {
   "cell_type": "code",
   "execution_count": null,
   "metadata": {},
   "outputs": [],
   "source": []
  },
  {
   "cell_type": "code",
   "execution_count": 105,
   "metadata": {},
   "outputs": [
    {
     "name": "stdout",
     "output_type": "stream",
     "text": [
      "OREB\n",
      "DREB\n",
      "REB\n",
      "OREB_PCT\n",
      "DREB_PCT\n",
      "OREBadj\n",
      "DREBadj\n",
      "reb_line\n",
      "reb_oOdds\n",
      "reb_uOdds\n",
      "OREB_HOMEadj\n",
      "DREB_HOMEadj\n",
      "REB_HOMEadj\n",
      "OREB_ROADadj\n",
      "DREB_ROADadj\n",
      "REB_ROADadj\n",
      "expReb\n",
      "REBoProb\n",
      "REBoOdds\n",
      "REBoOdds_deci\n"
     ]
    }
   ],
   "source": [
    "for i in nba.df_players.columns:\n",
    "    if 'reb' in i.lower():\n",
    "        print(i)"
   ]
  },
  {
   "cell_type": "code",
   "execution_count": null,
   "metadata": {},
   "outputs": [],
   "source": []
  },
  {
   "cell_type": "code",
   "execution_count": 63,
   "metadata": {},
   "outputs": [
    {
     "name": "stdout",
     "output_type": "stream",
     "text": [
      "[203992, 'Bogdan Bogdanović', 'Bogdan', 1610612746, 'LAC', 32.0, 24, 12, 12, 0.5, 24.9, 3.5, 9.3, 0.371, 1.8, 6.1, 0.301, 1.3, 1.4, 0.882, 0.5, 2.3, 2.8, 2.0, 1.5, 0.8, 0.3, 0.2, 2.4, 1.6, 10.0, -1.8, 18.1, 0, 0, 18.8, 11, 10, 13, 6, 7, 11, 6, 20, 6, 3, 16, 10, 13, 3, 11, 12, 12, 7, 5, 8, 13, 14, 6, 8, 10, 14, 12, 10, 2, 10]\n",
      "[1627747, 'Caris LeVert', 'Caris', 1610612737, 'ATL', 30.0, 2, 2, 0, 1.0, 23.7, 4.0, 8.5, 0.471, 2.0, 5.5, 0.364, 3.5, 4.0, 0.875, 0.0, 5.5, 5.5, 1.0, 0.5, 0.0, 0.0, 0.5, 3.5, 2.0, 13.5, -0.5, 21.1, 0, 0, 22.0, 17, 16, 18, 1, 9, 8, 7, 8, 5, 4, 9, 3, 3, 4, 20, 3, 4, 17, 16, 18, 17, 9, 1, 5, 5, 7, 8, 10, 2, 8]\n",
      "[203991, 'Clint Capela', 'Clint', 1610612737, 'ATL', 30.0, 45, 22, 23, 0.489, 22.4, 4.2, 7.3, 0.573, 0.0, 0.0, 0.0, 1.0, 1.9, 0.541, 3.3, 5.7, 9.0, 1.2, 1.0, 0.6, 1.0, 0.7, 2.0, 1.8, 9.4, -0.8, 25.8, 11, 0, 22.8, 5, 4, 5, 10, 10, 7, 10, 3, 20, 20, 20, 12, 8, 18, 1, 2, 2, 15, 10, 14, 1, 6, 7, 7, 11, 9, 6, 4, 2, 7]\n",
      "[1631342, 'Daeqwon Plowden', 'Daeqwon', 1610612737, 'ATL', 26.0, 2, 1, 1, 0.5, 16.4, 4.0, 5.0, 0.8, 3.0, 4.0, 0.75, 1.0, 1.0, 1.0, 1.5, 1.0, 2.5, 0.0, 0.5, 0.0, 0.0, 0.0, 2.5, 0.5, 12.0, 6.0, 14.5, 0, 0, 17.5, 17, 20, 17, 6, 16, 8, 16, 1, 1, 8, 2, 13, 14, 1, 5, 19, 15, 20, 16, 18, 17, 19, 2, 19, 6, 2, 14, 10, 2, 12]\n",
      "[1631223, 'David Roddy', 'David', 1610612737, 'ATL', 23.0, 27, 9, 18, 0.333, 12.8, 1.6, 3.4, 0.473, 0.6, 1.6, 0.372, 0.7, 0.8, 0.818, 0.4, 2.2, 2.6, 1.1, 0.7, 0.4, 0.3, 0.3, 0.7, 0.7, 4.5, -2.6, 10.8, 0, 0, 10.3, 10, 13, 9, 18, 18, 19, 19, 7, 15, 17, 8, 15, 16, 8, 15, 13, 14, 16, 13, 15, 11, 12, 19, 17, 19, 18, 19, 10, 2, 19]\n",
      "[1629631, \"De'Andre Hunter\", \"De'Andre\", 1610612739, 'CLE', 27.0, 37, 18, 19, 0.486, 28.7, 6.1, 13.3, 0.461, 2.6, 6.7, 0.393, 4.1, 4.8, 0.858, 0.7, 3.2, 3.9, 1.5, 1.6, 0.8, 0.1, 0.8, 2.4, 4.1, 19.0, -1.6, 27.3, 1, 0, 29.0, 8, 6, 8, 11, 4, 3, 3, 11, 3, 2, 5, 2, 2, 5, 9, 9, 9, 12, 4, 7, 16, 3, 5, 2, 2, 13, 5, 7, 2, 4]\n",
      "[1631230, 'Dominick Barlow', 'Dominick', 1610612737, 'ATL', 21.0, 15, 4, 11, 0.267, 7.9, 1.1, 2.5, 0.447, 0.3, 0.7, 0.364, 0.3, 0.5, 0.5, 0.3, 1.3, 1.5, 0.2, 0.1, 0.2, 0.5, 0.2, 0.6, 0.5, 2.8, -0.2, 6.9, 0, 0, 6.1, 14, 15, 14, 20, 20, 20, 20, 12, 19, 19, 9, 20, 19, 19, 18, 17, 18, 19, 20, 17, 8, 16, 20, 18, 20, 6, 20, 10, 2, 20]\n",
      "[1630700, 'Dyson Daniels', 'Dyson', 1610612737, 'ATL', 21.0, 49, 24, 25, 0.49, 33.9, 5.7, 12.2, 0.469, 1.1, 3.4, 0.327, 1.2, 1.9, 0.62, 1.7, 3.8, 5.5, 4.0, 1.9, 3.0, 0.8, 0.6, 2.5, 1.8, 13.7, -2.8, 35.7, 4, 0, 31.8, 2, 1, 2, 9, 3, 4, 4, 10, 13, 11, 13, 11, 9, 17, 4, 6, 5, 3, 3, 1, 5, 8, 3, 6, 4, 19, 3, 5, 2, 3]\n",
      "[1629726, 'Garrison Mathews', 'Garrison', 1610612737, 'ATL', 28.0, 43, 18, 25, 0.419, 17.7, 2.1, 5.5, 0.39, 1.8, 4.7, 0.385, 1.5, 1.8, 0.829, 0.3, 1.5, 1.8, 1.3, 0.7, 0.6, 0.3, 0.1, 1.7, 1.5, 7.5, -1.4, 13.6, 0, 0, 14.2, 6, 6, 2, 15, 14, 17, 14, 18, 7, 6, 6, 8, 11, 7, 17, 16, 17, 13, 14, 13, 12, 17, 12, 10, 14, 11, 15, 10, 2, 15]\n",
      "[1627777, 'Georges Niang', 'Georges', 1610612737, 'ATL', 31.0, 2, 2, 0, 1.0, 25.3, 4.0, 8.5, 0.471, 2.5, 5.0, 0.5, 1.5, 2.0, 0.75, 1.0, 4.0, 5.0, 2.0, 1.0, 1.5, 0.0, 0.0, 1.5, 1.0, 12.0, 8.0, 24.5, 0, 0, 24.5, 17, 16, 18, 1, 5, 8, 7, 8, 4, 5, 3, 7, 7, 10, 7, 5, 6, 8, 9, 3, 17, 19, 14, 13, 6, 1, 7, 10, 2, 6]\n",
      "[1630552, 'Jalen Johnson', 'Jalen', 1610612737, 'ATL', 23.0, 36, 18, 18, 0.5, 35.7, 7.5, 15.1, 0.5, 1.2, 3.9, 0.312, 2.6, 3.5, 0.746, 1.7, 8.3, 10.0, 5.0, 2.9, 1.6, 1.0, 1.1, 1.9, 2.8, 18.9, 1.5, 43.1, 20, 1, 40.2, 9, 6, 9, 6, 2, 1, 2, 6, 12, 9, 15, 4, 4, 11, 3, 1, 1, 2, 2, 2, 1, 1, 11, 3, 3, 4, 2, 2, 1, 2]\n",
      "[1630811, 'Keaton Wallace', 'Keaton', 1610612737, 'ATL', 25.0, 24, 10, 14, 0.417, 17.3, 2.2, 5.1, 0.423, 1.0, 2.7, 0.354, 0.5, 0.5, 1.0, 0.2, 1.3, 1.5, 2.3, 1.2, 0.9, 0.3, 0.1, 1.3, 0.4, 5.8, -1.5, 13.5, 0, 0, 13.0, 11, 11, 11, 16, 15, 16, 15, 15, 14, 14, 11, 18, 20, 1, 19, 18, 20, 5, 6, 6, 10, 18, 16, 20, 17, 12, 16, 10, 2, 17]\n",
      "[1641723, 'Kobe Bufkin', 'Kobe', 1610612737, 'ATL', 21.0, 10, 6, 4, 0.6, 12.4, 1.8, 4.7, 0.383, 0.4, 1.9, 0.211, 1.3, 1.8, 0.722, 0.5, 1.6, 2.1, 1.7, 0.8, 0.3, 0.2, 0.6, 0.9, 1.2, 5.3, -2.3, 11.1, 0, 0, 10.5, 15, 14, 16, 4, 19, 18, 17, 19, 18, 15, 18, 9, 10, 12, 11, 15, 16, 10, 12, 16, 14, 7, 17, 11, 18, 17, 18, 10, 2, 18]\n",
      "[1626204, 'Larry Nance Jr.', 'Larry', 1610612737, 'ATL', 32.0, 24, 10, 14, 0.417, 19.3, 3.3, 6.5, 0.516, 1.4, 3.2, 0.447, 0.4, 0.5, 0.692, 1.0, 3.3, 4.3, 1.6, 0.7, 0.8, 0.5, 0.3, 1.5, 1.0, 8.5, -4.0, 19.4, 3, 0, 18.5, 11, 11, 11, 16, 13, 12, 12, 5, 10, 13, 4, 19, 18, 15, 8, 7, 7, 11, 15, 8, 6, 13, 13, 12, 12, 20, 10, 6, 2, 11]\n",
      "[1631243, 'Mouhamed Gueye', 'Mouhamed', 1610612737, 'ATL', 22.0, 7, 2, 5, 0.286, 15.1, 2.9, 6.9, 0.417, 0.6, 3.3, 0.174, 0.7, 1.0, 0.714, 0.7, 3.3, 4.0, 0.6, 0.3, 1.3, 1.0, 0.3, 0.9, 0.7, 7.0, 3.9, 19.2, 1, 0, 16.7, 16, 16, 15, 19, 17, 14, 11, 16, 16, 12, 19, 14, 14, 13, 10, 8, 8, 18, 19, 4, 1, 11, 18, 16, 15, 3, 11, 7, 2, 13]\n",
      "[1630168, 'Onyeka Okongwu', 'Onyeka', 1610612737, 'ATL', 24.0, 47, 22, 25, 0.468, 25.2, 4.7, 8.4, 0.565, 0.4, 1.6, 0.276, 2.0, 2.7, 0.754, 2.8, 5.1, 7.9, 2.0, 1.0, 0.8, 0.9, 0.7, 2.4, 2.1, 12.0, -0.9, 28.5, 13, 0, 25.7, 3, 4, 2, 13, 6, 5, 9, 4, 17, 16, 17, 5, 5, 9, 2, 4, 3, 6, 8, 10, 4, 4, 4, 4, 8, 10, 4, 3, 2, 5]\n",
      "[1629611, 'Terance Mann', 'Terance', 1610612737, 'ATL', 28.0, 2, 2, 0, 1.0, 19.7, 3.0, 4.5, 0.667, 1.5, 1.5, 1.0, 0.5, 1.5, 0.333, 0.5, 1.0, 1.5, 2.0, 0.5, 0.0, 0.0, 0.5, 1.5, 1.0, 8.0, -0.5, 12.3, 0, 0, 13.0, 17, 16, 18, 1, 12, 13, 18, 2, 8, 18, 1, 17, 12, 20, 11, 19, 19, 8, 16, 18, 17, 9, 14, 13, 13, 7, 17, 10, 2, 16]\n",
      "[1629027, 'Trae Young', 'Trae', 1610612737, 'ATL', 26.0, 50, 24, 26, 0.48, 36.1, 7.2, 17.8, 0.408, 2.9, 8.7, 0.336, 6.0, 7.0, 0.857, 0.5, 2.7, 3.2, 11.4, 4.8, 1.2, 0.2, 0.8, 2.0, 5.4, 23.4, 0.3, 43.8, 31, 0, 43.8, 1, 1, 1, 12, 1, 2, 1, 17, 2, 1, 12, 1, 1, 6, 11, 10, 11, 1, 1, 5, 14, 2, 8, 1, 1, 5, 1, 1, 2, 1]\n",
      "[1630249, 'Vít Krejčí', 'Vít', 1610612737, 'ATL', 24.0, 39, 18, 21, 0.462, 20.8, 2.5, 5.5, 0.447, 1.4, 3.7, 0.384, 0.5, 0.8, 0.667, 0.4, 2.4, 2.7, 2.7, 0.9, 0.7, 0.5, 0.2, 1.9, 0.7, 6.9, -2.1, 16.9, 1, 0, 16.2, 7, 6, 7, 14, 11, 15, 13, 13, 9, 10, 7, 16, 17, 16, 16, 11, 13, 4, 11, 12, 7, 15, 10, 15, 16, 16, 13, 7, 2, 14]\n",
      "[1642258, 'Zaccharie Risacher', 'Zaccharie', 1610612737, 'ATL', 19.0, 47, 24, 23, 0.511, 23.7, 4.3, 9.9, 0.43, 1.3, 4.1, 0.313, 1.5, 2.2, 0.706, 1.3, 2.1, 3.4, 1.2, 1.1, 0.8, 0.4, 0.7, 2.0, 1.6, 11.3, -2.0, 19.8, 0, 0, 19.7, 3, 1, 5, 5, 8, 6, 5, 14, 11, 7, 14, 6, 6, 14, 6, 14, 10, 14, 7, 11, 9, 5, 9, 9, 9, 15, 9, 10, 2, 9]\n"
     ]
    }
   ],
   "source": [
    "import requests\n",
    "url_base_nba_player_stat = 'https://stats.nba.com/stats/leaguedashplayerstats?College=&Conference=&Country=&DateFrom=&DateTo=&Division=&DraftPick=&DraftYear=&GameScope=&GameSegment=&Height=&LastNGames=0&LeagueID=00&Location=&MeasureType=Base&Month=0&OpponentTeamID=0&Outcome=&PORound=0&PaceAdjust=N&PerMode={per}&Period=0&PlayerExperience=&PlayerPosition=&PlusMinus=N&Rank=N&Season={sid}&SeasonSegment=&SeasonType=Regular+Season&ShotClockRange=&StarterBench=&TeamID={tid}&TwoWay=0&VsConference=&VsDivision=&Weight='\n",
    "minute_cutoff = 15.0\n",
    "\n",
    "team_id = 1610612737\n",
    "player_info_url = url_base_nba_player_stat.format(\n",
    "    per = 'PerGame',\n",
    "    sid = '2024-25', \n",
    "    tid = team_id\n",
    ") \n",
    "response = requests.get(url=player_info_url, headers=nba.HEADERS).json()\n",
    "columns_player_stats = response['resultSets'][0]['headers']\n",
    "\n",
    "for j in response['resultSets'][0]['rowSet']:\n",
    "    print(j)"
   ]
  },
  {
   "cell_type": "code",
   "execution_count": null,
   "metadata": {},
   "outputs": [
    {
     "data": {
      "text/plain": [
       "['BOS']"
      ]
     },
     "execution_count": 72,
     "metadata": {},
     "output_type": "execute_result"
    }
   ],
   "source": [
    "c = nba.df_players.copy()\n",
    "c['TEAM_ABBREVIATION'].value_counts()[:1].index.tolist()"
   ]
  },
  {
   "cell_type": "code",
   "execution_count": null,
   "metadata": {},
   "outputs": [
    {
     "data": {
      "text/plain": [
       "7     ATL\n",
       "8     ATL\n",
       "9     ATL\n",
       "10    ATL\n",
       "11    ATL\n",
       "12    ATL\n",
       "13    ATL\n",
       "14    BOS\n",
       "15    BOS\n",
       "16    BOS\n",
       "17    BOS\n",
       "18    BOS\n",
       "19    BOS\n",
       "20    BOS\n",
       "21    CLE\n",
       "22    CLE\n",
       "23    CLE\n",
       "24    CLE\n",
       "25    CLE\n",
       "26    CLE\n",
       "27    CLE\n",
       "28    NOP\n",
       "Name: TEAM_ABBREVIATION, dtype: object"
      ]
     },
     "execution_count": 71,
     "metadata": {},
     "output_type": "execute_result"
    }
   ],
   "source": [
    "c['TEAM_ABBREVIATION'][9:29]"
   ]
  },
  {
   "cell_type": "code",
   "execution_count": null,
   "metadata": {},
   "outputs": [],
   "source": []
  }
 ],
 "metadata": {
  "kernelspec": {
   "display_name": "propfarm-_NXI0yZr",
   "language": "python",
   "name": "python3"
  },
  "language_info": {
   "codemirror_mode": {
    "name": "ipython",
    "version": 3
   },
   "file_extension": ".py",
   "mimetype": "text/x-python",
   "name": "python",
   "nbconvert_exporter": "python",
   "pygments_lexer": "ipython3",
   "version": "3.9.5"
  }
 },
 "nbformat": 4,
 "nbformat_minor": 2
}
