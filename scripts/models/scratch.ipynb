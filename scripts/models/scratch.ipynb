{
 "cells": [
  {
   "cell_type": "code",
   "execution_count": 1,
   "metadata": {},
   "outputs": [],
   "source": [
    "import nbaPlayerStatModeling as nbaModel\n",
    "import pandas as pd\n",
    "import numpy as np\n",
    "pd.set_option('display.max_rows', None)  # Show all rows\n",
    "pd.set_option('display.max_columns', 20)  # Show all columns\n",
    "pd.set_option('display.max_colwidth', None)  # Show full column width"
   ]
  },
  {
   "cell_type": "code",
   "execution_count": 2,
   "metadata": {},
   "outputs": [
    {
     "name": "stdout",
     "output_type": "stream",
     "text": [
      "15  games today...\n",
      "440 players returned from 30 teams, out of a total 30\n",
      "1066 prop bets for 163 players...\n"
     ]
    }
   ],
   "source": [
    "nba = nbaModel.playerStatModel(\n",
    "        day_offset = 0, \n",
    "        season = '2024-25', \n",
    "        perMode = 'PerGame',\n",
    "        num_simulations = 200000\n",
    ")\n",
    "nba.get_teams_playing(\n",
    "    url = 'https://cdn.nba.com/static/json/liveData/scoreboard/todaysScoreboard_00.json',\n",
    "    use_api = False  \n",
    ")\n",
    "nba.get_teams_data(\n",
    "    base_url = 'https://stats.nba.com/stats/leaguedashteamstats?Conference=&DateFrom=&DateTo=&Division=&GameScope=&GameSegment=&Height=&ISTRound=&LastNGames=0&LeagueID=00&Location=&MeasureType={stattype}&Month=0&OpponentTeamID=0&Outcome=&PORound=0&PaceAdjust=N&PerMode=PerGame&Period=0&PlayerExperience=&PlayerPosition=&PlusMinus=N&Rank=N&Season={sid}&SeasonSegment=&SeasonType=Regular%20Season&ShotClockRange=&StarterBench=&TeamID=0&TwoWay=0&VsConference=&VsDivision='\n",
    ")\n",
    "\n",
    "nba.get_players_playing(\n",
    "    url_base_nba_player_stat = 'https://stats.nba.com/stats/leaguedashplayerstats?College=&Conference=&Country=&DateFrom=&DateTo=&Division=&DraftPick=&DraftYear=&GameScope=&GameSegment=&Height=&LastNGames=0&LeagueID=00&Location=&MeasureType=Base&Month=0&OpponentTeamID=0&Outcome=&PORound=0&PaceAdjust=N&PerMode={per}&Period=0&PlayerExperience=&PlayerPosition=&PlusMinus=N&Rank=N&Season={sid}&SeasonSegment=&SeasonType=Regular+Season&ShotClockRange=&StarterBench=&TeamID={tid}&TwoWay=0&VsConference=&VsDivision=&Weight=',\n",
    "    minute_cutoff = 10,\n",
    "    season = '2025',\n",
    "    pull_players_from_nbaapi = False\n",
    ")\n",
    "nba.get_props()\n",
    "\n",
    "nba.get_player_home_adv(\n",
    "    use_default=False,\n",
    "    sleep_time = 3\n",
    ")\n",
    "#nba.df_players = nba.df_players[(nba.df_players['FG3A'] > 0) & (nba.df_players['FTA'] > 0)]\n",
    "df_copy = nba.df_players.copy()"
   ]
  },
  {
   "cell_type": "code",
   "execution_count": 6,
   "metadata": {},
   "outputs": [],
   "source": [
    "nba.df_players = df_copy.copy()\n",
    "nba.model_expected_minutes()\n",
    "nba.calculate_expected_stats()\n",
    "nba.model_stats()"
   ]
  },
  {
   "cell_type": "code",
   "execution_count": 7,
   "metadata": {},
   "outputs": [
    {
     "name": "stdout",
     "output_type": "stream",
     "text": [
      "all odds: 693\n",
      "+Ev over odds: 56\n"
     ]
    }
   ],
   "source": [
    "reb = nba.df_players.loc[:,['PLAYER_NAME', 'REB', 'expReb', 'reb_line', 'reb_oOdds', 'REBoOdds','REBoOdds_deci','REBoProb']].copy()\n",
    "reb['stat'] = 'reb'\n",
    "ast = nba.df_players.loc[:,['PLAYER_NAME', 'AST', 'expAst', 'ast_line', 'ast_oOdds', 'ASToOdds','ASToOdds_deci','ASToProb']].copy()\n",
    "ast['stat'] = 'ast'\n",
    "pts = nba.df_players.loc[:,['PLAYER_NAME', 'PTS', 'expPts', 'pts_line', 'pts_oOdds', 'PTSoOdds','PTSoOdds_deci','PTSoProb']].copy()\n",
    "pts['stat'] = 'pts'\n",
    "fg3m = nba.df_players.loc[:,['PLAYER_NAME', 'FG3M', 'expFG3M', 'threes_line', 'threes_oOdds', 'FG3MoOdds','FG3MoOdds_deci','FG3MoProb']].copy()\n",
    "fg3m['stat'] = 'fg3m'\n",
    "pra = nba.df_players.loc[:,['PLAYER_NAME', 'PRA', 'expPra', 'pra_line', 'pra_oOdds', 'PRAoOdds','PRAoOdds_deci','PRAoProb']].copy()\n",
    "pra['stat'] = 'pra'\n",
    "pr = nba.df_players.loc[:,['PLAYER_NAME', 'PR', 'expPr', 'pr_line', 'pr_oOdds', 'PRoOdds','PRoOdds_deci','PRoProb']].copy()\n",
    "pr['stat'] = 'pr'\n",
    "pa = nba.df_players.loc[:,['PLAYER_NAME', 'PA', 'expPa', 'pa_line', 'pa_oOdds', 'PAoOdds','PAoOdds_deci','PAoProb']].copy()\n",
    "pa['stat'] = 'pa'\n",
    "ra = nba.df_players.loc[:,['PLAYER_NAME', 'RA', 'expRa', 'ra_line', 'ra_oOdds', 'RAoOdds','RAoOdds_deci','RAoProb']].copy()\n",
    "ra['stat'] = 'ra'\n",
    "stl = nba.df_players.loc[:,['PLAYER_NAME', 'STL', 'expStl', 'stl_line', 'stl_oOdds', 'STLoOdds','STLoOdds_deci','STLoProb']].copy()\n",
    "stl['stat'] = 'stl'\n",
    "blk = nba.df_players.loc[:,['PLAYER_NAME', 'BLK', 'expBlk', 'blk_line', 'blk_oOdds', 'BLKoOdds','BLKoOdds_deci','BLKoProb']].copy()\n",
    "blk['stat'] = 'blk'\n",
    "sb = nba.df_players.loc[:,['PLAYER_NAME', 'SB', 'expSb', 'sb_line', 'sb_oOdds', 'SBoOdds','SBoOdds_deci','SBoProb']].copy()\n",
    "sb['stat'] = 'sb'\n",
    "\n",
    "pts.columns = ['PLAYER_NAME', 'act', 'exp', 'line', 'ACToOdds', 'EXPoOdds', 'EXPoOdds_deci', 'EXPoProb', 'stat'].copy()\n",
    "for i in [reb, ast, fg3m, pra, pr, pa, ra, stl, blk, sb ]:\n",
    "    i.columns = ['PLAYER_NAME', 'act', 'exp', 'line', 'ACToOdds', 'EXPoOdds', 'EXPoOdds_deci', 'EXPoProb', 'stat'].copy()\n",
    "    pts = pd.concat([pts, i])\n",
    "\n",
    "odds = pts[['PLAYER_NAME', 'stat', 'act', 'exp', 'line', 'ACToOdds', 'EXPoOdds', 'EXPoOdds_deci', 'EXPoProb']].copy()\n",
    "odds['over_ev'] = odds['ACToOdds'] - odds['EXPoOdds']\n",
    "print('all odds:', odds.shape[0])\n",
    "odds_over_ev = odds[(\n",
    "                    odds['over_ev']>100\n",
    "                    ) & (\n",
    "                    odds['act'] < odds['exp']\n",
    "                    )].sort_values('over_ev', ascending=False)\n",
    "print('+Ev over odds:', odds_over_ev.shape[0])\n",
    " "
   ]
  },
  {
   "cell_type": "code",
   "execution_count": 8,
   "metadata": {},
   "outputs": [
    {
     "data": {
      "text/html": [
       "<div>\n",
       "<style scoped>\n",
       "    .dataframe tbody tr th:only-of-type {\n",
       "        vertical-align: middle;\n",
       "    }\n",
       "\n",
       "    .dataframe tbody tr th {\n",
       "        vertical-align: top;\n",
       "    }\n",
       "\n",
       "    .dataframe thead th {\n",
       "        text-align: right;\n",
       "    }\n",
       "</style>\n",
       "<table border=\"1\" class=\"dataframe\">\n",
       "  <thead>\n",
       "    <tr style=\"text-align: right;\">\n",
       "      <th></th>\n",
       "      <th>PLAYER_NAME</th>\n",
       "      <th>stat</th>\n",
       "      <th>act</th>\n",
       "      <th>exp</th>\n",
       "      <th>line</th>\n",
       "      <th>ACToOdds</th>\n",
       "      <th>EXPoOdds</th>\n",
       "      <th>EXPoOdds_deci</th>\n",
       "      <th>EXPoProb</th>\n",
       "      <th>over_ev</th>\n",
       "    </tr>\n",
       "  </thead>\n",
       "  <tbody>\n",
       "    <tr>\n",
       "      <th>60</th>\n",
       "      <td>Ausar Thompson</td>\n",
       "      <td>pts</td>\n",
       "      <td>10.175439</td>\n",
       "      <td>9.116872</td>\n",
       "      <td>11.5</td>\n",
       "      <td>-106.0</td>\n",
       "      <td>300.0</td>\n",
       "      <td>4.009</td>\n",
       "      <td>0.249440</td>\n",
       "      <td>-406.0</td>\n",
       "    </tr>\n",
       "    <tr>\n",
       "      <th>60</th>\n",
       "      <td>Ausar Thompson</td>\n",
       "      <td>reb</td>\n",
       "      <td>5.122807</td>\n",
       "      <td>5.370192</td>\n",
       "      <td>5.5</td>\n",
       "      <td>-113.0</td>\n",
       "      <td>123.0</td>\n",
       "      <td>2.235</td>\n",
       "      <td>0.447445</td>\n",
       "      <td>-236.0</td>\n",
       "    </tr>\n",
       "    <tr>\n",
       "      <th>60</th>\n",
       "      <td>Ausar Thompson</td>\n",
       "      <td>ast</td>\n",
       "      <td>2.315789</td>\n",
       "      <td>2.482479</td>\n",
       "      <td>2.5</td>\n",
       "      <td>116.0</td>\n",
       "      <td>120.0</td>\n",
       "      <td>2.209</td>\n",
       "      <td>0.452760</td>\n",
       "      <td>-4.0</td>\n",
       "    </tr>\n",
       "    <tr>\n",
       "      <th>60</th>\n",
       "      <td>Ausar Thompson</td>\n",
       "      <td>fg3m</td>\n",
       "      <td>0.192982</td>\n",
       "      <td>0.230494</td>\n",
       "      <td>0.5</td>\n",
       "      <td>400.0</td>\n",
       "      <td>513.0</td>\n",
       "      <td>6.130</td>\n",
       "      <td>0.163120</td>\n",
       "      <td>-113.0</td>\n",
       "    </tr>\n",
       "    <tr>\n",
       "      <th>60</th>\n",
       "      <td>Ausar Thompson</td>\n",
       "      <td>pra</td>\n",
       "      <td>17.614035</td>\n",
       "      <td>16.969543</td>\n",
       "      <td>19.5</td>\n",
       "      <td>-113.0</td>\n",
       "      <td>521.0</td>\n",
       "      <td>6.215</td>\n",
       "      <td>0.160900</td>\n",
       "      <td>-634.0</td>\n",
       "    </tr>\n",
       "    <tr>\n",
       "      <th>60</th>\n",
       "      <td>Ausar Thompson</td>\n",
       "      <td>pr</td>\n",
       "      <td>15.298246</td>\n",
       "      <td>14.487064</td>\n",
       "      <td>17.5</td>\n",
       "      <td>-100.0</td>\n",
       "      <td>322.0</td>\n",
       "      <td>4.227</td>\n",
       "      <td>0.236550</td>\n",
       "      <td>-422.0</td>\n",
       "    </tr>\n",
       "    <tr>\n",
       "      <th>60</th>\n",
       "      <td>Ausar Thompson</td>\n",
       "      <td>pa</td>\n",
       "      <td>12.491228</td>\n",
       "      <td>11.599351</td>\n",
       "      <td>13.5</td>\n",
       "      <td>-121.0</td>\n",
       "      <td>544.0</td>\n",
       "      <td>6.446</td>\n",
       "      <td>0.155135</td>\n",
       "      <td>-665.0</td>\n",
       "    </tr>\n",
       "    <tr>\n",
       "      <th>60</th>\n",
       "      <td>Ausar Thompson</td>\n",
       "      <td>ra</td>\n",
       "      <td>7.438596</td>\n",
       "      <td>7.852671</td>\n",
       "      <td>7.5</td>\n",
       "      <td>-137.0</td>\n",
       "      <td>277.0</td>\n",
       "      <td>3.772</td>\n",
       "      <td>0.265090</td>\n",
       "      <td>-414.0</td>\n",
       "    </tr>\n",
       "    <tr>\n",
       "      <th>60</th>\n",
       "      <td>Ausar Thompson</td>\n",
       "      <td>stl</td>\n",
       "      <td>1.719298</td>\n",
       "      <td>1.872030</td>\n",
       "      <td>1.5</td>\n",
       "      <td>116.0</td>\n",
       "      <td>-126.0</td>\n",
       "      <td>1.789</td>\n",
       "      <td>0.558830</td>\n",
       "      <td>242.0</td>\n",
       "    </tr>\n",
       "    <tr>\n",
       "      <th>60</th>\n",
       "      <td>Ausar Thompson</td>\n",
       "      <td>blk</td>\n",
       "      <td>0.666667</td>\n",
       "      <td>0.701046</td>\n",
       "      <td>0.5</td>\n",
       "      <td>-120.0</td>\n",
       "      <td>-101.0</td>\n",
       "      <td>1.988</td>\n",
       "      <td>0.502965</td>\n",
       "      <td>-19.0</td>\n",
       "    </tr>\n",
       "    <tr>\n",
       "      <th>60</th>\n",
       "      <td>Ausar Thompson</td>\n",
       "      <td>sb</td>\n",
       "      <td>2.385965</td>\n",
       "      <td>2.573076</td>\n",
       "      <td>0.0</td>\n",
       "      <td>0.0</td>\n",
       "      <td>NaN</td>\n",
       "      <td>NaN</td>\n",
       "      <td>1.000000</td>\n",
       "      <td>NaN</td>\n",
       "    </tr>\n",
       "  </tbody>\n",
       "</table>\n",
       "</div>"
      ],
      "text/plain": [
       "       PLAYER_NAME  stat        act        exp  line  ACToOdds  EXPoOdds  \\\n",
       "60  Ausar Thompson   pts  10.175439   9.116872  11.5    -106.0     300.0   \n",
       "60  Ausar Thompson   reb   5.122807   5.370192   5.5    -113.0     123.0   \n",
       "60  Ausar Thompson   ast   2.315789   2.482479   2.5     116.0     120.0   \n",
       "60  Ausar Thompson  fg3m   0.192982   0.230494   0.5     400.0     513.0   \n",
       "60  Ausar Thompson   pra  17.614035  16.969543  19.5    -113.0     521.0   \n",
       "60  Ausar Thompson    pr  15.298246  14.487064  17.5    -100.0     322.0   \n",
       "60  Ausar Thompson    pa  12.491228  11.599351  13.5    -121.0     544.0   \n",
       "60  Ausar Thompson    ra   7.438596   7.852671   7.5    -137.0     277.0   \n",
       "60  Ausar Thompson   stl   1.719298   1.872030   1.5     116.0    -126.0   \n",
       "60  Ausar Thompson   blk   0.666667   0.701046   0.5    -120.0    -101.0   \n",
       "60  Ausar Thompson    sb   2.385965   2.573076   0.0       0.0       NaN   \n",
       "\n",
       "    EXPoOdds_deci  EXPoProb  over_ev  \n",
       "60          4.009  0.249440   -406.0  \n",
       "60          2.235  0.447445   -236.0  \n",
       "60          2.209  0.452760     -4.0  \n",
       "60          6.130  0.163120   -113.0  \n",
       "60          6.215  0.160900   -634.0  \n",
       "60          4.227  0.236550   -422.0  \n",
       "60          6.446  0.155135   -665.0  \n",
       "60          3.772  0.265090   -414.0  \n",
       "60          1.789  0.558830    242.0  \n",
       "60          1.988  0.502965    -19.0  \n",
       "60            NaN  1.000000      NaN  "
      ]
     },
     "execution_count": 8,
     "metadata": {},
     "output_type": "execute_result"
    }
   ],
   "source": [
    "player = \"Ausar\"\n",
    "odds[odds['PLAYER_NAME'].str.contains(player)]"
   ]
  },
  {
   "cell_type": "code",
   "execution_count": null,
   "metadata": {},
   "outputs": [],
   "source": [
    "odds_over_ev[(~odds_over_ev['stat'].isin(['sb']))]"
   ]
  },
  {
   "cell_type": "code",
   "execution_count": null,
   "metadata": {},
   "outputs": [],
   "source": [
    "#nba.df_players.to_excel('test.xlsx')"
   ]
  },
  {
   "cell_type": "markdown",
   "metadata": {},
   "source": [
    "# Scratch - Mean reversion"
   ]
  },
  {
   "cell_type": "code",
   "execution_count": 9,
   "metadata": {},
   "outputs": [
    {
     "name": "stderr",
     "output_type": "stream",
     "text": [
      "c:\\Users\\jrbrz\\.virtualenvs\\propfarm-_NXI0yZr\\lib\\site-packages\\statsmodels\\regression\\linear_model.py:955: RuntimeWarning: divide by zero encountered in log\n",
      "  llf = -nobs2*np.log(2*np.pi) - nobs2*np.log(ssr / nobs) - nobs2\n"
     ]
    }
   ],
   "source": [
    "def adf_test(series):\n",
    "    \"\"\"Runs ADF test on a series and returns the p-value. If fewer than 6 games, return 1.\"\"\"\n",
    "    series = series.dropna()  # Ensure no NaNs\n",
    "    if len(series) < 5:  # ADF requires at least a few lags, so set a safer threshold\n",
    "        return 1  \n",
    "    try:\n",
    "        return round(adfuller(series)[1],4)  # Return p-value\n",
    "    except ValueError:\n",
    "        return 1  # If ADF still fails, return 1\n",
    "\n",
    "\n",
    "def fit_ou_process(pts_series, mle=True):\n",
    "    \"\"\"Fits an Ornstein-Uhlenbeck process to a player's points time series.\"\"\"\n",
    "    pts_series = pts_series.dropna().values  # Remove NaNs\n",
    "    if len(pts_series) < 2:\n",
    "        return 1, np.mean(pts_series), np.std(pts_series)  # Default for small samples\n",
    "    \n",
    "    dt = 1  \n",
    "\n",
    "    def ou_nll(params, X, dt):\n",
    "        \"\"\"Negative log-likelihood function for the OU process.\"\"\"\n",
    "        theta, mu, sigma = params\n",
    "        if theta <= 0 or sigma <= 0:\n",
    "            return np.inf  \n",
    "        residuals = X[1:] - (X[:-1] * np.exp(-theta * dt) + mu * (1 - np.exp(-theta * dt)))\n",
    "        likelihoods = -0.5 * np.log(2 * np.pi * sigma**2 * (1 - np.exp(-2 * theta * dt)) / (2 * theta)) - (residuals**2) / (2 * sigma**2 * (1 - np.exp(-2 * theta * dt)) / (2 * theta))\n",
    "        return -np.sum(likelihoods)\n",
    "\n",
    "    if mle:\n",
    "        result = minimize(ou_nll, x0=[0.1, np.mean(pts_series), np.std(pts_series)], args=(pts_series, dt), \n",
    "                          bounds=[(1e-5, None), (None, None), (1e-5, None)])\n",
    "        return result.x if result.success else (1, np.mean(pts_series), np.std(pts_series))\n",
    "    \n",
    "    # LSR estimation\n",
    "    X_t, dX = pts_series[:-1], np.diff(pts_series)\n",
    "    \n",
    "    if np.std(X_t) == 0:  # Prevent singular matrix error\n",
    "        return 1, np.mean(pts_series), np.std(pts_series)\n",
    "    \n",
    "    try:\n",
    "        beta, alpha = np.polyfit(X_t, dX, 1)\n",
    "        theta, mu, sigma = -beta, alpha / -beta, np.std(dX - (beta * X_t + alpha)) / np.sqrt(2 * -beta)\n",
    "    except np.linalg.LinAlgError:\n",
    "        return 1, np.mean(pts_series), np.std(pts_series)  # Return defaults on failure\n",
    "\n",
    "    return round(theta, 2), round(mu, 2), round(sigma, 2)\n",
    "\n",
    "def process_players(df, stat, mle=True):\n",
    "    \"\"\"Runs ADF test and fits OU process for each player on the specified stat.\"\"\"\n",
    "    results = []\n",
    "    \n",
    "    for player, group in df.groupby('PLAYER_NAME'):\n",
    "        series = group[stat]\n",
    "        adf_pval = adf_test(series)\n",
    "        \n",
    "        if adf_pval < 0.05:\n",
    "            theta, mu, sigma = fit_ou_process(series, mle=mle)\n",
    "            tau = 1/theta\n",
    "        else:\n",
    "            theta, tau, mu, sigma = 1, 1, 1, 1 \n",
    "        \n",
    "        results.append({'PLAYER_NAME': player, 'ADF_PVALUE': adf_pval, 'THETA': theta, 'TAU':tau, 'MU': mu, 'SIGMA': sigma})\n",
    "    \n",
    "    return pd.DataFrame(results)\n",
    "\n",
    "# Example usage:\n",
    "df_results = process_players(nba.df_player_boxscores, 'PTS', mle=False)\n"
   ]
  },
  {
   "cell_type": "code",
   "execution_count": 10,
   "metadata": {},
   "outputs": [
    {
     "data": {
      "application/vnd.microsoft.datawrangler.viewer.v0+json": {
       "columns": [
        {
         "name": "index",
         "rawType": "object",
         "type": "string"
        },
        {
         "name": "ADF_PVALUE",
         "rawType": "float64",
         "type": "float"
        },
        {
         "name": "THETA",
         "rawType": "float64",
         "type": "float"
        },
        {
         "name": "TAU",
         "rawType": "float64",
         "type": "float"
        },
        {
         "name": "MU",
         "rawType": "float64",
         "type": "float"
        },
        {
         "name": "SIGMA",
         "rawType": "float64",
         "type": "float"
        }
       ],
       "conversionMethod": "pd.DataFrame",
       "ref": "c4ff388f-a7f2-42ea-8cde-71976033a6c7",
       "rows": [
        [
         "count",
         "349.0",
         "349.0",
         "349.0",
         "349.0",
         "349.0"
        ],
        [
         "mean",
         "0.21267679083094554",
         "0.9837249283667622",
         "1.041064745890973",
         "6.859598853868195",
         "2.750057306590258"
        ],
        [
         "std",
         "0.36557767254160367",
         "0.15307722483063346",
         "0.16671051118137434",
         "7.004111137548084",
         "1.7285069290005954"
        ],
        [
         "min",
         "0.0",
         "0.56",
         "0.53475935828877",
         "0.3",
         "0.27"
        ],
        [
         "25%",
         "0.0",
         "0.92",
         "0.9900990099009901",
         "1.0",
         "1.0"
        ],
        [
         "50%",
         "0.0006",
         "1.0",
         "1.0",
         "4.1",
         "2.71"
        ],
        [
         "75%",
         "0.2223",
         "1.01",
         "1.0869565217391304",
         "10.43",
         "4.07"
        ],
        [
         "max",
         "1.0",
         "1.87",
         "1.7857142857142856",
         "29.47",
         "6.93"
        ]
       ],
       "shape": {
        "columns": 5,
        "rows": 8
       }
      },
      "text/html": [
       "<div>\n",
       "<style scoped>\n",
       "    .dataframe tbody tr th:only-of-type {\n",
       "        vertical-align: middle;\n",
       "    }\n",
       "\n",
       "    .dataframe tbody tr th {\n",
       "        vertical-align: top;\n",
       "    }\n",
       "\n",
       "    .dataframe thead th {\n",
       "        text-align: right;\n",
       "    }\n",
       "</style>\n",
       "<table border=\"1\" class=\"dataframe\">\n",
       "  <thead>\n",
       "    <tr style=\"text-align: right;\">\n",
       "      <th></th>\n",
       "      <th>ADF_PVALUE</th>\n",
       "      <th>THETA</th>\n",
       "      <th>TAU</th>\n",
       "      <th>MU</th>\n",
       "      <th>SIGMA</th>\n",
       "    </tr>\n",
       "  </thead>\n",
       "  <tbody>\n",
       "    <tr>\n",
       "      <th>count</th>\n",
       "      <td>349.000000</td>\n",
       "      <td>349.000000</td>\n",
       "      <td>349.000000</td>\n",
       "      <td>349.000000</td>\n",
       "      <td>349.000000</td>\n",
       "    </tr>\n",
       "    <tr>\n",
       "      <th>mean</th>\n",
       "      <td>0.212677</td>\n",
       "      <td>0.983725</td>\n",
       "      <td>1.041065</td>\n",
       "      <td>6.859599</td>\n",
       "      <td>2.750057</td>\n",
       "    </tr>\n",
       "    <tr>\n",
       "      <th>std</th>\n",
       "      <td>0.365578</td>\n",
       "      <td>0.153077</td>\n",
       "      <td>0.166711</td>\n",
       "      <td>7.004111</td>\n",
       "      <td>1.728507</td>\n",
       "    </tr>\n",
       "    <tr>\n",
       "      <th>min</th>\n",
       "      <td>0.000000</td>\n",
       "      <td>0.560000</td>\n",
       "      <td>0.534759</td>\n",
       "      <td>0.300000</td>\n",
       "      <td>0.270000</td>\n",
       "    </tr>\n",
       "    <tr>\n",
       "      <th>25%</th>\n",
       "      <td>0.000000</td>\n",
       "      <td>0.920000</td>\n",
       "      <td>0.990099</td>\n",
       "      <td>1.000000</td>\n",
       "      <td>1.000000</td>\n",
       "    </tr>\n",
       "    <tr>\n",
       "      <th>50%</th>\n",
       "      <td>0.000600</td>\n",
       "      <td>1.000000</td>\n",
       "      <td>1.000000</td>\n",
       "      <td>4.100000</td>\n",
       "      <td>2.710000</td>\n",
       "    </tr>\n",
       "    <tr>\n",
       "      <th>75%</th>\n",
       "      <td>0.222300</td>\n",
       "      <td>1.010000</td>\n",
       "      <td>1.086957</td>\n",
       "      <td>10.430000</td>\n",
       "      <td>4.070000</td>\n",
       "    </tr>\n",
       "    <tr>\n",
       "      <th>max</th>\n",
       "      <td>1.000000</td>\n",
       "      <td>1.870000</td>\n",
       "      <td>1.785714</td>\n",
       "      <td>29.470000</td>\n",
       "      <td>6.930000</td>\n",
       "    </tr>\n",
       "  </tbody>\n",
       "</table>\n",
       "</div>"
      ],
      "text/plain": [
       "       ADF_PVALUE       THETA         TAU          MU       SIGMA\n",
       "count  349.000000  349.000000  349.000000  349.000000  349.000000\n",
       "mean     0.212677    0.983725    1.041065    6.859599    2.750057\n",
       "std      0.365578    0.153077    0.166711    7.004111    1.728507\n",
       "min      0.000000    0.560000    0.534759    0.300000    0.270000\n",
       "25%      0.000000    0.920000    0.990099    1.000000    1.000000\n",
       "50%      0.000600    1.000000    1.000000    4.100000    2.710000\n",
       "75%      0.222300    1.010000    1.086957   10.430000    4.070000\n",
       "max      1.000000    1.870000    1.785714   29.470000    6.930000"
      ]
     },
     "execution_count": 10,
     "metadata": {},
     "output_type": "execute_result"
    }
   ],
   "source": [
    "df_results.describe()\n"
   ]
  },
  {
   "cell_type": "code",
   "execution_count": null,
   "metadata": {},
   "outputs": [],
   "source": [
    "df_results"
   ]
  },
  {
   "cell_type": "code",
   "execution_count": 37,
   "metadata": {},
   "outputs": [
    {
     "data": {
      "image/png": "[encoded data removed]",
      "text/plain": [
       "<Figure size 640x480 with 1 Axes>"
      ]
     },
     "metadata": {},
     "output_type": "display_data"
    }
   ],
   "source": [
    "import matplotlib.pyplot as plt\n",
    "\n",
    "plt.hist(nba.df_player_boxscores[\n",
    "    nba.df_player_boxscores['PLAYER_NAME']=='Aaron Gordon'\n",
    "]['PTS'], bins=30, edgecolor='black')\n",
    "plt.xlabel(\"Mean Reversion Time (Tau)\")\n",
    "plt.ylabel(\"Count of Players\")\n",
    "plt.title(\"Distribution of Mean Reversion Times\")\n",
    "plt.show()\n",
    "\n"
   ]
  },
  {
   "cell_type": "code",
   "execution_count": null,
   "metadata": {},
   "outputs": [],
   "source": []
  },
  {
   "cell_type": "code",
   "execution_count": null,
   "metadata": {},
   "outputs": [],
   "source": []
  },
  {
   "cell_type": "code",
   "execution_count": 33,
   "metadata": {},
   "outputs": [
    {
     "data": {
      "text/plain": [
       "['threes_line',\n",
       " 'stl_line',\n",
       " 'reb_line',\n",
       " 'ra_line',\n",
       " 'pts_line',\n",
       " 'pra_line',\n",
       " 'pr_line',\n",
       " 'pa_line',\n",
       " 'blk_line',\n",
       " 'ast_line',\n",
       " 'sb_line']"
      ]
     },
     "execution_count": 33,
     "metadata": {},
     "output_type": "execute_result"
    }
   ],
   "source": [
    "pts_cols = []\n",
    "for i in nba.df_players.columns:\n",
    "    if  'line' in i.lower():\n",
    "        pts_cols.append(i)\n",
    "\n",
    "#nba.df_players[pts_cols]\n",
    "pts_cols"
   ]
  },
  {
   "cell_type": "code",
   "execution_count": null,
   "metadata": {},
   "outputs": [],
   "source": []
  }
 ],
 "metadata": {
  "kernelspec": {
   "display_name": "propfarm-_NXI0yZr",
   "language": "python",
   "name": "python3"
  },
  "language_info": {
   "codemirror_mode": {
    "name": "ipython",
    "version": 3
   },
   "file_extension": ".py",
   "mimetype": "text/x-python",
   "name": "python",
   "nbconvert_exporter": "python",
   "pygments_lexer": "ipython3",
   "version": "3.9.5"
  }
 },
 "nbformat": 4,
 "nbformat_minor": 2
}
