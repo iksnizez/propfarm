{
 "cells": [
  {
   "cell_type": "code",
   "execution_count": 1,
   "id": "9b8572cc-c358-4661-ad23-b01179588198",
   "metadata": {},
   "outputs": [],
   "source": [
    "import time\n",
    "import pandas as pd\n",
    "pd.set_option('display.max_columns', 500)\n",
    "\n",
    "from selenium import webdriver\n",
    "from selenium.webdriver.chrome.service import Service\n",
    "from selenium.webdriver.common.by import By\n",
    "from selenium.webdriver.common.keys import Keys\n",
    "from selenium.webdriver.support.wait import WebDriverWait\n",
    "from selenium.webdriver.support import expected_conditions as EC\n",
    "\n",
    "# path to webdriver for selenium\n",
    "service = Service(r\"..\\browser\\geckodriver.exe\")\n",
    "\n",
    "driver = webdriver.Firefox(service=service)\n",
    "waitTime = 10\n",
    "\n",
    "site = \"https://www.rotowire.com/basketball/rotations.php\"\n",
    "driver.get(site)\n",
    "time.sleep(5)\n",
    "\n",
    "teams = [\"ATL\", \"BOS\", \"BKN\", \"CHA\", \"CHI\", \"CLE\", \"DAL\", \"DEN\", \"DET\", \"GSW\",\n",
    "         \"HOU\",\"IND\",\"LAC\", \"LAL\", \"MEM\", \"MIA\", \"MIL\", \"MIN\", \"NOP\", \"NYK\", \n",
    "         \"OKC\", \"ORL\", \"PHI\", \"PHX\", \"POR\", \"SAC\", \"SAS\", \"TOR\", \"UTA\", \"WAS\"]\n",
    "\n",
    "player_info = {}\n",
    "for i in teams:\n",
    "    htmlID = \"rotation-table-{}\".format(i)\n",
    "    team_data = driver.find_element(By.ID, htmlID)\n",
    "    # retrieve its page coords\n",
    "    loc = team_data.location\n",
    "    #scroll to the location to activate the table creation\n",
    "    driver.execute_script(\"window.scrollTo(0, {});\".format(str(loc[\"y\"])))\n",
    "    # pause for data loading\n",
    "    time.sleep(2)\n",
    "    # grabbing all of the player elements for a team\n",
    "    players = team_data.find_elements(By.TAG_NAME, \"a\")\n",
    "    for p in players:\n",
    "        # grabbing the name and href to extract the rotoID\n",
    "        player_name = p.text\n",
    "        href= p.get_attribute(\"href\")\n",
    "        rotoId = int(href.split(\"-\")[-1])\n",
    "        player_info[player_name] = rotoId\n",
    "\n",
    "driver.close()\n",
    "\n",
    "#convert dict to dataframe\n",
    "data = pd.DataFrame.from_dict(player_info, orient='index', columns=['rotowireId']).reset_index()\n",
    "data.rename(columns={\"index\":\"player\"}, inplace=True)\n",
    "\n",
    "#export\n",
    "data.to_csv(\"../data/rotoId.csv\", index=False)"
   ]
  },
  {
   "cell_type": "code",
   "execution_count": 52,
   "id": "d79d84c4-e718-42df-a9d7-1e44f879ee78",
   "metadata": {},
   "outputs": [],
   "source": []
  },
  {
   "cell_type": "code",
   "execution_count": null,
   "id": "2d848804-8d38-4ae1-87f4-9dbbdba9bf59",
   "metadata": {},
   "outputs": [],
   "source": []
  }
 ],
 "metadata": {
  "kernelspec": {
   "display_name": "Python 3 (ipykernel)",
   "language": "python",
   "name": "python3"
  },
  "language_info": {
   "codemirror_mode": {
    "name": "ipython",
    "version": 3
   },
   "file_extension": ".py",
   "mimetype": "text/x-python",
   "name": "python",
   "nbconvert_exporter": "python",
   "pygments_lexer": "ipython3",
   "version": "3.8.10"
  }
 },
 "nbformat": 4,
 "nbformat_minor": 5
}
